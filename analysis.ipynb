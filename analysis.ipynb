{
 "cells": [
  {
   "cell_type": "markdown",
   "id": "dd7dd1af",
   "metadata": {},
   "source": [
    "# Setting up the Project\n",
    "- import the necessary libaries\n",
    "- load the json file (which is the DataForSEO API results)\n",
    "- create dataframe"
   ]
  },
  {
   "cell_type": "code",
   "execution_count": null,
   "id": "22e221db",
   "metadata": {},
   "outputs": [],
   "source": [
    "# DEFINE BRAND INFORMATION\n",
    "brand_name = \"techcombank\"\n",
    "brand_domain = \"techcombank.com\""
   ]
  },
  {
   "cell_type": "code",
   "execution_count": 46,
   "id": "60b2d6ed",
   "metadata": {},
   "outputs": [],
   "source": [
    "import json\n",
    "import pandas as pd\n"
   ]
  },
  {
   "cell_type": "code",
   "execution_count": 47,
   "id": "368f02c2",
   "metadata": {},
   "outputs": [],
   "source": [
    "# load json file\n",
    "with open('7. visrating/visrating.json', 'r', encoding='utf-8', errors='replace') as file:\n",
    "    data = json.load(file)  # Load the outer array"
   ]
  },
  {
   "cell_type": "code",
   "execution_count": 48,
   "id": "1f383255",
   "metadata": {},
   "outputs": [
    {
     "data": {
      "text/html": [
       "<div>\n",
       "<style scoped>\n",
       "    .dataframe tbody tr th:only-of-type {\n",
       "        vertical-align: middle;\n",
       "    }\n",
       "\n",
       "    .dataframe tbody tr th {\n",
       "        vertical-align: top;\n",
       "    }\n",
       "\n",
       "    .dataframe thead th {\n",
       "        text-align: right;\n",
       "    }\n",
       "</style>\n",
       "<table border=\"1\" class=\"dataframe\">\n",
       "  <thead>\n",
       "    <tr style=\"text-align: right;\">\n",
       "      <th></th>\n",
       "      <th>keyword</th>\n",
       "      <th>raw_data</th>\n",
       "    </tr>\n",
       "  </thead>\n",
       "  <tbody>\n",
       "    <tr>\n",
       "      <th>0</th>\n",
       "      <td>xếp hạng tín nhiệm</td>\n",
       "      <td>{'keyword': 'xếp hạng tín nhiệm', 'type': 'org...</td>\n",
       "    </tr>\n",
       "    <tr>\n",
       "      <th>1</th>\n",
       "      <td>xếp hạng tín nhiệm rating</td>\n",
       "      <td>{'keyword': 'xếp hạng tín nhiệm rating', 'type...</td>\n",
       "    </tr>\n",
       "    <tr>\n",
       "      <th>2</th>\n",
       "      <td>dịch vụ xếp hạng tín nhiệm</td>\n",
       "      <td>{'keyword': 'dịch vụ xếp hạng tín nhiệm', 'typ...</td>\n",
       "    </tr>\n",
       "    <tr>\n",
       "      <th>3</th>\n",
       "      <td>chỉ số xếp hạng tín nhiệm</td>\n",
       "      <td>{'keyword': 'chỉ số xếp hạng tín nhiệm', 'type...</td>\n",
       "    </tr>\n",
       "    <tr>\n",
       "      <th>4</th>\n",
       "      <td>điểm xếp hạng tín nhiệm</td>\n",
       "      <td>{'keyword': 'điểm xếp hạng tín nhiệm', 'type':...</td>\n",
       "    </tr>\n",
       "  </tbody>\n",
       "</table>\n",
       "</div>"
      ],
      "text/plain": [
       "                      keyword  \\\n",
       "0          xếp hạng tín nhiệm   \n",
       "1   xếp hạng tín nhiệm rating   \n",
       "2  dịch vụ xếp hạng tín nhiệm   \n",
       "3   chỉ số xếp hạng tín nhiệm   \n",
       "4     điểm xếp hạng tín nhiệm   \n",
       "\n",
       "                                            raw_data  \n",
       "0  {'keyword': 'xếp hạng tín nhiệm', 'type': 'org...  \n",
       "1  {'keyword': 'xếp hạng tín nhiệm rating', 'type...  \n",
       "2  {'keyword': 'dịch vụ xếp hạng tín nhiệm', 'typ...  \n",
       "3  {'keyword': 'chỉ số xếp hạng tín nhiệm', 'type...  \n",
       "4  {'keyword': 'điểm xếp hạng tín nhiệm', 'type':...  "
      ]
     },
     "metadata": {},
     "output_type": "display_data"
    },
    {
     "name": "stdout",
     "output_type": "stream",
     "text": [
      "<class 'pandas.core.frame.DataFrame'>\n",
      "Index: 113 entries, 0 to 112\n",
      "Data columns (total 2 columns):\n",
      " #   Column    Non-Null Count  Dtype \n",
      "---  ------    --------------  ----- \n",
      " 0   keyword   113 non-null    object\n",
      " 1   raw_data  113 non-null    object\n",
      "dtypes: object(2)\n",
      "memory usage: 2.6+ KB\n",
      "None\n"
     ]
    }
   ],
   "source": [
    "# convert to dataframe\n",
    "df = pd.DataFrame(data)\n",
    "df.columns = ['raw_data']\n",
    "df['keyword'] = df['raw_data'].apply(lambda x: x['keyword'])\n",
    "df = df.reindex(columns=['keyword', 'raw_data'])\n",
    "\n",
    "# preview\n",
    "display(df.head())\n",
    "print(df.info())"
   ]
  },
  {
   "cell_type": "markdown",
   "id": "3a638886",
   "metadata": {},
   "source": [
    "# Sub-data set that only includes keywords that activate AI Overviews\n",
    "- filter the original dataset\n",
    "- map the dataframe with these columns: ['keyword', 'items'], the 'items' column is the entire raw result of DataForSEO\n",
    "- extract only the AI Overview element from 'items' (raw data)\n",
    "- get the markdown ccontent of AI Overview to a seperate column\n",
    "- get the references list of AI Overview in a seperate column"
   ]
  },
  {
   "cell_type": "code",
   "execution_count": 49,
   "id": "5e23a158",
   "metadata": {},
   "outputs": [
    {
     "data": {
      "text/html": [
       "<div>\n",
       "<style scoped>\n",
       "    .dataframe tbody tr th:only-of-type {\n",
       "        vertical-align: middle;\n",
       "    }\n",
       "\n",
       "    .dataframe tbody tr th {\n",
       "        vertical-align: top;\n",
       "    }\n",
       "\n",
       "    .dataframe thead th {\n",
       "        text-align: right;\n",
       "    }\n",
       "</style>\n",
       "<table border=\"1\" class=\"dataframe\">\n",
       "  <thead>\n",
       "    <tr style=\"text-align: right;\">\n",
       "      <th></th>\n",
       "      <th>keyword</th>\n",
       "      <th>items</th>\n",
       "    </tr>\n",
       "  </thead>\n",
       "  <tbody>\n",
       "    <tr>\n",
       "      <th>0</th>\n",
       "      <td>xếp hạng tín nhiệm</td>\n",
       "      <td>[{'type': 'organic', 'rank_group': 1, 'rank_ab...</td>\n",
       "    </tr>\n",
       "    <tr>\n",
       "      <th>1</th>\n",
       "      <td>xếp hạng tín nhiệm rating</td>\n",
       "      <td>[{'type': 'ai_overview', 'rank_group': 1, 'ran...</td>\n",
       "    </tr>\n",
       "    <tr>\n",
       "      <th>2</th>\n",
       "      <td>dịch vụ xếp hạng tín nhiệm</td>\n",
       "      <td>[{'type': 'organic', 'rank_group': 1, 'rank_ab...</td>\n",
       "    </tr>\n",
       "    <tr>\n",
       "      <th>3</th>\n",
       "      <td>chỉ số xếp hạng tín nhiệm</td>\n",
       "      <td>[{'type': 'ai_overview', 'rank_group': 1, 'ran...</td>\n",
       "    </tr>\n",
       "    <tr>\n",
       "      <th>4</th>\n",
       "      <td>điểm xếp hạng tín nhiệm</td>\n",
       "      <td>[{'type': 'organic', 'rank_group': 1, 'rank_ab...</td>\n",
       "    </tr>\n",
       "  </tbody>\n",
       "</table>\n",
       "</div>"
      ],
      "text/plain": [
       "                      keyword  \\\n",
       "0          xếp hạng tín nhiệm   \n",
       "1   xếp hạng tín nhiệm rating   \n",
       "2  dịch vụ xếp hạng tín nhiệm   \n",
       "3   chỉ số xếp hạng tín nhiệm   \n",
       "4     điểm xếp hạng tín nhiệm   \n",
       "\n",
       "                                               items  \n",
       "0  [{'type': 'organic', 'rank_group': 1, 'rank_ab...  \n",
       "1  [{'type': 'ai_overview', 'rank_group': 1, 'ran...  \n",
       "2  [{'type': 'organic', 'rank_group': 1, 'rank_ab...  \n",
       "3  [{'type': 'ai_overview', 'rank_group': 1, 'ran...  \n",
       "4  [{'type': 'organic', 'rank_group': 1, 'rank_ab...  "
      ]
     },
     "metadata": {},
     "output_type": "display_data"
    },
    {
     "name": "stdout",
     "output_type": "stream",
     "text": [
      "<class 'pandas.core.frame.DataFrame'>\n",
      "RangeIndex: 105 entries, 0 to 104\n",
      "Data columns (total 2 columns):\n",
      " #   Column   Non-Null Count  Dtype \n",
      "---  ------   --------------  ----- \n",
      " 0   keyword  105 non-null    object\n",
      " 1   items    105 non-null    object\n",
      "dtypes: object(2)\n",
      "memory usage: 1.8+ KB\n",
      "None\n"
     ]
    }
   ],
   "source": [
    "# create sub_dataset for ai_overview\n",
    "aio_data = []\n",
    "aio = df['raw_data'].tolist()\n",
    "\n",
    "for json in aio:\n",
    "    for i in json['items']:\n",
    "        if 'ai_overview' in i['type']:\n",
    "            aio_data.append(json)\n",
    "\n",
    "df_aio = pd.DataFrame(aio_data)\n",
    "df_aio = df_aio.drop(columns=['location_code','language_code', 'items_count','type', 'se_domain', 'check_url', 'datetime', 'spell', 'refinement_chips', 'se_results_count', 'item_types'])\n",
    "\n",
    "# preview\n",
    "display(df_aio.head())\n",
    "print(df_aio.info())"
   ]
  },
  {
   "cell_type": "code",
   "execution_count": 50,
   "id": "b63a3e49",
   "metadata": {},
   "outputs": [
    {
     "data": {
      "text/html": [
       "<div>\n",
       "<style scoped>\n",
       "    .dataframe tbody tr th:only-of-type {\n",
       "        vertical-align: middle;\n",
       "    }\n",
       "\n",
       "    .dataframe tbody tr th {\n",
       "        vertical-align: top;\n",
       "    }\n",
       "\n",
       "    .dataframe thead th {\n",
       "        text-align: right;\n",
       "    }\n",
       "</style>\n",
       "<table border=\"1\" class=\"dataframe\">\n",
       "  <thead>\n",
       "    <tr style=\"text-align: right;\">\n",
       "      <th></th>\n",
       "      <th>keyword</th>\n",
       "      <th>items</th>\n",
       "      <th>aio</th>\n",
       "    </tr>\n",
       "  </thead>\n",
       "  <tbody>\n",
       "    <tr>\n",
       "      <th>0</th>\n",
       "      <td>xếp hạng tín nhiệm</td>\n",
       "      <td>[{'type': 'organic', 'rank_group': 1, 'rank_ab...</td>\n",
       "      <td>[{'type': 'ai_overview', 'rank_group': 1, 'ran...</td>\n",
       "    </tr>\n",
       "    <tr>\n",
       "      <th>1</th>\n",
       "      <td>xếp hạng tín nhiệm rating</td>\n",
       "      <td>[{'type': 'ai_overview', 'rank_group': 1, 'ran...</td>\n",
       "      <td>[{'type': 'ai_overview', 'rank_group': 1, 'ran...</td>\n",
       "    </tr>\n",
       "    <tr>\n",
       "      <th>2</th>\n",
       "      <td>dịch vụ xếp hạng tín nhiệm</td>\n",
       "      <td>[{'type': 'organic', 'rank_group': 1, 'rank_ab...</td>\n",
       "      <td>[{'type': 'ai_overview', 'rank_group': 1, 'ran...</td>\n",
       "    </tr>\n",
       "    <tr>\n",
       "      <th>3</th>\n",
       "      <td>chỉ số xếp hạng tín nhiệm</td>\n",
       "      <td>[{'type': 'ai_overview', 'rank_group': 1, 'ran...</td>\n",
       "      <td>[{'type': 'ai_overview', 'rank_group': 1, 'ran...</td>\n",
       "    </tr>\n",
       "    <tr>\n",
       "      <th>4</th>\n",
       "      <td>điểm xếp hạng tín nhiệm</td>\n",
       "      <td>[{'type': 'organic', 'rank_group': 1, 'rank_ab...</td>\n",
       "      <td>[{'type': 'ai_overview', 'rank_group': 1, 'ran...</td>\n",
       "    </tr>\n",
       "  </tbody>\n",
       "</table>\n",
       "</div>"
      ],
      "text/plain": [
       "                      keyword  \\\n",
       "0          xếp hạng tín nhiệm   \n",
       "1   xếp hạng tín nhiệm rating   \n",
       "2  dịch vụ xếp hạng tín nhiệm   \n",
       "3   chỉ số xếp hạng tín nhiệm   \n",
       "4     điểm xếp hạng tín nhiệm   \n",
       "\n",
       "                                               items  \\\n",
       "0  [{'type': 'organic', 'rank_group': 1, 'rank_ab...   \n",
       "1  [{'type': 'ai_overview', 'rank_group': 1, 'ran...   \n",
       "2  [{'type': 'organic', 'rank_group': 1, 'rank_ab...   \n",
       "3  [{'type': 'ai_overview', 'rank_group': 1, 'ran...   \n",
       "4  [{'type': 'organic', 'rank_group': 1, 'rank_ab...   \n",
       "\n",
       "                                                 aio  \n",
       "0  [{'type': 'ai_overview', 'rank_group': 1, 'ran...  \n",
       "1  [{'type': 'ai_overview', 'rank_group': 1, 'ran...  \n",
       "2  [{'type': 'ai_overview', 'rank_group': 1, 'ran...  \n",
       "3  [{'type': 'ai_overview', 'rank_group': 1, 'ran...  \n",
       "4  [{'type': 'ai_overview', 'rank_group': 1, 'ran...  "
      ]
     },
     "metadata": {},
     "output_type": "display_data"
    },
    {
     "name": "stdout",
     "output_type": "stream",
     "text": [
      "<class 'pandas.core.frame.DataFrame'>\n",
      "RangeIndex: 105 entries, 0 to 104\n",
      "Data columns (total 3 columns):\n",
      " #   Column   Non-Null Count  Dtype \n",
      "---  ------   --------------  ----- \n",
      " 0   keyword  105 non-null    object\n",
      " 1   items    105 non-null    object\n",
      " 2   aio      105 non-null    object\n",
      "dtypes: object(3)\n",
      "memory usage: 2.6+ KB\n",
      "None\n"
     ]
    }
   ],
   "source": [
    "# get only ai_overview type element from items\n",
    "df_aio['aio'] = df_aio['items'].apply(lambda x: [item for item in x if item['type'] == 'ai_overview'])\n",
    "\n",
    "# preview\n",
    "display(df_aio.head())\n",
    "print(df_aio.info())"
   ]
  },
  {
   "cell_type": "markdown",
   "id": "6923b376",
   "metadata": {},
   "source": [
    "## Handle Markdown"
   ]
  },
  {
   "cell_type": "code",
   "execution_count": 51,
   "id": "8215e0ba",
   "metadata": {},
   "outputs": [
    {
     "data": {
      "text/html": [
       "<div>\n",
       "<style scoped>\n",
       "    .dataframe tbody tr th:only-of-type {\n",
       "        vertical-align: middle;\n",
       "    }\n",
       "\n",
       "    .dataframe tbody tr th {\n",
       "        vertical-align: top;\n",
       "    }\n",
       "\n",
       "    .dataframe thead th {\n",
       "        text-align: right;\n",
       "    }\n",
       "</style>\n",
       "<table border=\"1\" class=\"dataframe\">\n",
       "  <thead>\n",
       "    <tr style=\"text-align: right;\">\n",
       "      <th></th>\n",
       "      <th>keyword</th>\n",
       "      <th>items</th>\n",
       "      <th>aio</th>\n",
       "      <th>aio_markdown</th>\n",
       "    </tr>\n",
       "  </thead>\n",
       "  <tbody>\n",
       "    <tr>\n",
       "      <th>0</th>\n",
       "      <td>xếp hạng tín nhiệm</td>\n",
       "      <td>[{'type': 'organic', 'rank_group': 1, 'rank_ab...</td>\n",
       "      <td>[{'type': 'ai_overview', 'rank_group': 1, 'ran...</td>\n",
       "      <td>Xếp hạng tín nhiệm là quá trình đánh giá khả n...</td>\n",
       "    </tr>\n",
       "    <tr>\n",
       "      <th>1</th>\n",
       "      <td>xếp hạng tín nhiệm rating</td>\n",
       "      <td>[{'type': 'ai_overview', 'rank_group': 1, 'ran...</td>\n",
       "      <td>[{'type': 'ai_overview', 'rank_group': 1, 'ran...</td>\n",
       "      <td>Xếp hạng tín nhiệm (rating) là đánh giá độc lậ...</td>\n",
       "    </tr>\n",
       "    <tr>\n",
       "      <th>2</th>\n",
       "      <td>dịch vụ xếp hạng tín nhiệm</td>\n",
       "      <td>[{'type': 'organic', 'rank_group': 1, 'rank_ab...</td>\n",
       "      <td>[{'type': 'ai_overview', 'rank_group': 1, 'ran...</td>\n",
       "      <td>Dịch vụ xếp hạng tín nhiệm là dịch vụ phân tíc...</td>\n",
       "    </tr>\n",
       "    <tr>\n",
       "      <th>3</th>\n",
       "      <td>chỉ số xếp hạng tín nhiệm</td>\n",
       "      <td>[{'type': 'ai_overview', 'rank_group': 1, 'ran...</td>\n",
       "      <td>[{'type': 'ai_overview', 'rank_group': 1, 'ran...</td>\n",
       "      <td>Chỉ số xếp hạng tín nhiệm là thước đo định tín...</td>\n",
       "    </tr>\n",
       "    <tr>\n",
       "      <th>4</th>\n",
       "      <td>điểm xếp hạng tín nhiệm</td>\n",
       "      <td>[{'type': 'organic', 'rank_group': 1, 'rank_ab...</td>\n",
       "      <td>[{'type': 'ai_overview', 'rank_group': 1, 'ran...</td>\n",
       "      <td>Điểm xếp hạng tín nhiệm là kết quả của [quá tr...</td>\n",
       "    </tr>\n",
       "  </tbody>\n",
       "</table>\n",
       "</div>"
      ],
      "text/plain": [
       "                      keyword  \\\n",
       "0          xếp hạng tín nhiệm   \n",
       "1   xếp hạng tín nhiệm rating   \n",
       "2  dịch vụ xếp hạng tín nhiệm   \n",
       "3   chỉ số xếp hạng tín nhiệm   \n",
       "4     điểm xếp hạng tín nhiệm   \n",
       "\n",
       "                                               items  \\\n",
       "0  [{'type': 'organic', 'rank_group': 1, 'rank_ab...   \n",
       "1  [{'type': 'ai_overview', 'rank_group': 1, 'ran...   \n",
       "2  [{'type': 'organic', 'rank_group': 1, 'rank_ab...   \n",
       "3  [{'type': 'ai_overview', 'rank_group': 1, 'ran...   \n",
       "4  [{'type': 'organic', 'rank_group': 1, 'rank_ab...   \n",
       "\n",
       "                                                 aio  \\\n",
       "0  [{'type': 'ai_overview', 'rank_group': 1, 'ran...   \n",
       "1  [{'type': 'ai_overview', 'rank_group': 1, 'ran...   \n",
       "2  [{'type': 'ai_overview', 'rank_group': 1, 'ran...   \n",
       "3  [{'type': 'ai_overview', 'rank_group': 1, 'ran...   \n",
       "4  [{'type': 'ai_overview', 'rank_group': 1, 'ran...   \n",
       "\n",
       "                                        aio_markdown  \n",
       "0  Xếp hạng tín nhiệm là quá trình đánh giá khả n...  \n",
       "1  Xếp hạng tín nhiệm (rating) là đánh giá độc lậ...  \n",
       "2  Dịch vụ xếp hạng tín nhiệm là dịch vụ phân tíc...  \n",
       "3  Chỉ số xếp hạng tín nhiệm là thước đo định tín...  \n",
       "4  Điểm xếp hạng tín nhiệm là kết quả của [quá tr...  "
      ]
     },
     "metadata": {},
     "output_type": "display_data"
    },
    {
     "name": "stdout",
     "output_type": "stream",
     "text": [
      "<class 'pandas.core.frame.DataFrame'>\n",
      "RangeIndex: 105 entries, 0 to 104\n",
      "Data columns (total 4 columns):\n",
      " #   Column        Non-Null Count  Dtype \n",
      "---  ------        --------------  ----- \n",
      " 0   keyword       105 non-null    object\n",
      " 1   items         105 non-null    object\n",
      " 2   aio           105 non-null    object\n",
      " 3   aio_markdown  104 non-null    object\n",
      "dtypes: object(4)\n",
      "memory usage: 3.4+ KB\n",
      "None\n"
     ]
    }
   ],
   "source": [
    "# create column for aio_markdown\n",
    "df_aio['aio_markdown'] = df_aio['aio'].apply(lambda x: x[0]['markdown'] if x else None)\n",
    "\n",
    "display(df_aio.head())\n",
    "print(df_aio.info())"
   ]
  },
  {
   "cell_type": "code",
   "execution_count": 52,
   "id": "8cea81f6",
   "metadata": {},
   "outputs": [
    {
     "name": "stdout",
     "output_type": "stream",
     "text": [
      "Xếp hạng tín nhiệm là quá trình đánh giá khả năng và mức độ sẵn sàng trả nợ của một tổ chức, doanh nghiệp, hoặc quốc gia.Kết quả xếp hạng được thể hiện bằng các ký hiệu (ví dụ: AAA, AA, A, BB, C), cho biết mức độ rủi ro tín dụng đối với người cho vay hoặc nhà đầu tư.Xếp hạng tín nhiệm là một công cụ quan trọng giúp các nhà đầu tư đánh giá rủi ro, đồng thời giúp các tổ chức nâng cao uy tín và thu hút vốn.[[1]](https://visrating.com/tin-tuc/xep-hang-tin-nhiem-la-gi.24.html#:~:text=T%E1%BB%95ng%20quan%20v%E1%BB%81%20c%C3%A1c%20s%E1%BA%A3n%20ph%E1%BA%A9m%20huy%20%C4%91%E1%BB%99ng%20v%E1%BB%91n%20c%E1%BB%A7a%20ng%C3%A2n%20h%C3%A0ng&text=X%E1%BA%BFp%20h%E1%BA%A1ng%20t%C3%ADn%20nhi%E1%BB%87m%20l%C3%A0%20m%E1%BB%99t%20ch%E1%BB%89%20s%E1%BB%91%20quan%20tr%E1%BB%8Dng,%C4%91%E1%BB%91i%20t%C3%A1c%20v%C3%A0%20kh%C3%A1ch%20h%C3%A0ng.)[[2]](https://saigonratings.com/dich-vu-xep-hang-tin-nhiem/#:~:text=l%C4%A9nh%20v%E1%BB%B1c%20n%C3%A0y.-,X%E1%BA%BFp%20h%E1%BA%A1ng%20t%C3%ADn%20nhi%E1%BB%87m%20l%C3%A0%20g%C3%AC?,ro%20t%C3%ADn%20d%E1%BB%A5ng%20c%C3%A0ng%20th%E1%BA%A5p.)[[3]](https://visrating.com/tin-tuc/xep-hang-tin-nhiem-moodys.50.html#:~:text=th%E1%BB%83%20nh%C6%B0%20sau:-,Thang%20x%E1%BA%BFp%20h%E1%BA%A1ng%20t%C3%ADn%20nhi%E1%BB%87m%20d%C3%A0i%20h%E1%BA%A1n,r%E1%BB%A7i%20ro%20t%C3%ADn%20nhi%E1%BB%87m%20th%E1%BA%A5p.)[[4]](https://saigonratings.com/xep-hang-tin-nhiem-la-gi-vai-tro-va-y-nghia/#:~:text=X%E1%BA%BFp%20h%E1%BA%A1ng%20t%C3%ADn%20nhi%E1%BB%87m%20%28Credit,vay%20ho%E1%BA%B7c%20nh%C3%A0%20%C4%91%E1%BA%A7u%20t%C6%B0.)[[5]](https://visrating.com/tin-tuc/xep-hang-tin-nhiem-viet-nam.38.html#:~:text=%C4%90%C3%A2y%20l%C3%A0%20m%E1%BB%99t%20th%C6%B0%E1%BB%9Bc%20%C4%91o,tr%C6%B0%E1%BB%9Dng%20t%C3%A0i%20ch%C3%ADnh%20qu%E1%BB%91c%20t%E1%BA%BF.)[[6]](https://www.youtube.com/watch?v=7qMoFkpgVjo#:~:text=T%E1%BA%A1i%20c%C3%A1c%20th%E1%BB%8B%20tr%C6%B0%E1%BB%9Dng%20t%C3%A0i%20ch%C3%ADnh%20ph%C3%A1t,n%E1%BB%A3%20v%C3%A0%20m%E1%BB%A9c%20%C4%91%E1%BB%99%20r%E1%BB%A7i%20ro%20%C4%91i)\n",
      "\n",
      "Mục đích của xếp hạng tín nhiệm:\n",
      "\n",
      "- **Đánh giá rủi ro tín dụng:** Phản ánh khả năng vỡ nợ và mức độ tổn thất tài chính có thể xảy ra khi nghĩa vụ nợ đến hạn.[[1]](https://saigonratings.com/dich-vu-xep-hang-tin-nhiem/#:~:text=l%C4%A9nh%20v%E1%BB%B1c%20n%C3%A0y.-,X%E1%BA%BFp%20h%E1%BA%A1ng%20t%C3%ADn%20nhi%E1%BB%87m%20l%C3%A0%20g%C3%AC?,ro%20t%C3%ADn%20d%E1%BB%A5ng%20c%C3%A0ng%20th%E1%BA%A5p.)[[2]](https://visrating.com/tin-tuc/xep-hang-tin-nhiem-moodys.50.html#:~:text=th%E1%BB%83%20nh%C6%B0%20sau:-,Thang%20x%E1%BA%BFp%20h%E1%BA%A1ng%20t%C3%ADn%20nhi%E1%BB%87m%20d%C3%A0i%20h%E1%BA%A1n,r%E1%BB%A7i%20ro%20t%C3%ADn%20nhi%E1%BB%87m%20th%E1%BA%A5p.)\n",
      "- **Hỗ trợ quyết định đầu tư:** Giúp nhà đầu tư đưa ra quyết định đầu tư dựa trên thông tin khách quan về rủi ro.[[1]](https://visrating.com/tin-tuc/xep-hang-tin-nhiem-viet-nam.38.html#:~:text=%C4%90%C3%A2y%20l%C3%A0%20m%E1%BB%99t%20th%C6%B0%E1%BB%9Bc%20%C4%91o,tr%C6%B0%E1%BB%9Dng%20t%C3%A0i%20ch%C3%ADnh%20qu%E1%BB%91c%20t%E1%BA%BF.)\n",
      "- **Nâng cao uy tín:** Giúp các tổ chức, doanh nghiệp và quốc gia tăng cường niềm tin, cải thiện uy tín trên thị trường tài chính quốc tế.[[1]](https://visrating.com/tin-tuc/xep-hang-tin-nhiem-la-gi.24.html#:~:text=T%E1%BB%95ng%20quan%20v%E1%BB%81%20c%C3%A1c%20s%E1%BA%A3n%20ph%E1%BA%A9m%20huy%20%C4%91%E1%BB%99ng%20v%E1%BB%91n%20c%E1%BB%A7a%20ng%C3%A2n%20h%C3%A0ng&text=X%E1%BA%BFp%20h%E1%BA%A1ng%20t%C3%ADn%20nhi%E1%BB%87m%20l%C3%A0%20m%E1%BB%99t%20ch%E1%BB%89%20s%E1%BB%91%20quan%20tr%E1%BB%8Dng,%C4%91%E1%BB%91i%20t%C3%A1c%20v%C3%A0%20kh%C3%A1ch%20h%C3%A0ng.)[[2]](https://visrating.com/tin-tuc/xep-hang-tin-nhiem-viet-nam.38.html#:~:text=%C4%90%C3%A2y%20l%C3%A0%20m%E1%BB%99t%20th%C6%B0%E1%BB%9Bc%20%C4%91o,tr%C6%B0%E1%BB%9Dng%20t%C3%A0i%20ch%C3%ADnh%20qu%E1%BB%91c%20t%E1%BA%BF.)\n",
      "- **Thu hút vốn đầu tư:** Giúp một quốc gia hoặc doanh nghiệp thu hút nguồn vốn đầu tư nước ngoài hiệu quả hơn.[[1]](https://visrating.com/tin-tuc/xep-hang-tin-nhiem-viet-nam.38.html#:~:text=%C4%90%C3%A2y%20l%C3%A0%20m%E1%BB%99t%20th%C6%B0%E1%BB%9Bc%20%C4%91o,tr%C6%B0%E1%BB%9Dng%20t%C3%A0i%20ch%C3%ADnh%20qu%E1%BB%91c%20t%E1%BA%BF.)\n",
      "\n",
      "Các yếu tố ảnh hưởng đến xếp hạng tín nhiệm:\n",
      "\n",
      "- **Chỉ số tài chính định lượng:** Nợ công, thu chi ngân sách, dự trữ ngoại hối, tăng trưởng kinh tế, lạm phát, đầu tư và lãi suất.[[1]](https://visrating.com/tin-tuc/xep-hang-tin-nhiem-viet-nam.38.html#:~:text=%C4%90%C3%A2y%20l%C3%A0%20m%E1%BB%99t%20th%C6%B0%E1%BB%9Bc%20%C4%91o,tr%C6%B0%E1%BB%9Dng%20t%C3%A0i%20ch%C3%ADnh%20qu%E1%BB%91c%20t%E1%BA%BF.)\n",
      "- **Yếu tố định tính:** Tình hình chính trị, triển vọng kinh tế vĩ mô.[[1]](https://visrating.com/tin-tuc/xep-hang-tin-nhiem-viet-nam.38.html#:~:text=%C4%90%C3%A2y%20l%C3%A0%20m%E1%BB%99t%20th%C6%B0%E1%BB%9Bc%20%C4%91o,tr%C6%B0%E1%BB%9Dng%20t%C3%A0i%20ch%C3%ADnh%20qu%E1%BB%91c%20t%E1%BA%BF.)\n",
      "- **Đặc thù của công cụ nợ:** Các giao ước tài chính, tài sản bảo đảm, thứ tự ưu tiên trả nợ.[[1]](https://fiinratings.vn/RatingMethodologies#:~:text=X%E1%BA%BFp%20h%E1%BA%A1ng%20t%C3%ADn%20nhi%E1%BB%87m%20C%C3%B4ng,t%E1%BB%B1%20%C6%B0u%20ti%C3%AAn%20tr%E1%BA%A3%20n%E1%BB%A3%2C%E2%80%A6)\n",
      "\n",
      "Các loại xếp hạng:\n",
      "\n",
      "- **Xếp hạng tổ chức:** Đánh giá chung về khả năng thanh toán của một tổ chức (doanh nghiệp, ngân hàng, chính phủ).[[1]](https://saigonratings.com/dich-vu-xep-hang-tin-nhiem/#:~:text=l%C4%A9nh%20v%E1%BB%B1c%20n%C3%A0y.-,X%E1%BA%BFp%20h%E1%BA%A1ng%20t%C3%ADn%20nhi%E1%BB%87m%20l%C3%A0%20g%C3%AC?,ro%20t%C3%ADn%20d%E1%BB%A5ng%20c%C3%A0ng%20th%E1%BA%A5p.)\n",
      "- **Xếp hạng công cụ nợ:** Đánh giá một nghĩa vụ tài chính cụ thể (ví dụ: trái phiếu).[[1]](https://fiinratings.vn/RatingMethodologies#:~:text=X%E1%BA%BFp%20h%E1%BA%A1ng%20t%C3%ADn%20nhi%E1%BB%87m%20C%C3%B4ng,t%E1%BB%B1%20%C6%B0u%20ti%C3%AAn%20tr%E1%BA%A3%20n%E1%BB%A3%2C%E2%80%A6)\n",
      "\n",
      "Ý nghĩa của các ký hiệu xếp hạng (ví dụ thang xếp hạng quốc tế):[[1]](https://visrating.com/tin-tuc/xep-hang-tin-nhiem-moodys.50.html#:~:text=th%E1%BB%83%20nh%C6%B0%20sau:-,Thang%20x%E1%BA%BFp%20h%E1%BA%A1ng%20t%C3%ADn%20nhi%E1%BB%87m%20d%C3%A0i%20h%E1%BA%A1n,r%E1%BB%A7i%20ro%20t%C3%ADn%20nhi%E1%BB%87m%20th%E1%BA%A5p.)\n",
      "\n",
      "- **AAA:** Rủi ro tín nhiệm thấp nhất, chất lượng cao nhất.\n",
      "- **A (Aaa-A):** Rủi ro tín nhiệm thấp, chất lượng cao.\n",
      "- **B (Baa-B):** Rủi ro tín dụng trung bình đến cao.\n",
      "- **C (Caa-C):** Rủi ro tín dụng cao, có khả năng vỡ nợ.\n"
     ]
    }
   ],
   "source": [
    "# preview markdown\n",
    "print(df_aio['aio_markdown'][0])"
   ]
  },
  {
   "cell_type": "code",
   "execution_count": 53,
   "id": "6dada32d",
   "metadata": {},
   "outputs": [
    {
     "data": {
      "text/html": [
       "<div>\n",
       "<style scoped>\n",
       "    .dataframe tbody tr th:only-of-type {\n",
       "        vertical-align: middle;\n",
       "    }\n",
       "\n",
       "    .dataframe tbody tr th {\n",
       "        vertical-align: top;\n",
       "    }\n",
       "\n",
       "    .dataframe thead th {\n",
       "        text-align: right;\n",
       "    }\n",
       "</style>\n",
       "<table border=\"1\" class=\"dataframe\">\n",
       "  <thead>\n",
       "    <tr style=\"text-align: right;\">\n",
       "      <th></th>\n",
       "      <th>keyword</th>\n",
       "      <th>items</th>\n",
       "      <th>aio</th>\n",
       "      <th>aio_markdown</th>\n",
       "    </tr>\n",
       "  </thead>\n",
       "  <tbody>\n",
       "    <tr>\n",
       "      <th>0</th>\n",
       "      <td>xếp hạng tín nhiệm</td>\n",
       "      <td>[{'type': 'organic', 'rank_group': 1, 'rank_ab...</td>\n",
       "      <td>[{'type': 'ai_overview', 'rank_group': 1, 'ran...</td>\n",
       "      <td>Xếp hạng tín nhiệm là quá trình đánh giá khả n...</td>\n",
       "    </tr>\n",
       "    <tr>\n",
       "      <th>1</th>\n",
       "      <td>xếp hạng tín nhiệm rating</td>\n",
       "      <td>[{'type': 'ai_overview', 'rank_group': 1, 'ran...</td>\n",
       "      <td>[{'type': 'ai_overview', 'rank_group': 1, 'ran...</td>\n",
       "      <td>Xếp hạng tín nhiệm (rating) là đánh giá độc lậ...</td>\n",
       "    </tr>\n",
       "    <tr>\n",
       "      <th>2</th>\n",
       "      <td>dịch vụ xếp hạng tín nhiệm</td>\n",
       "      <td>[{'type': 'organic', 'rank_group': 1, 'rank_ab...</td>\n",
       "      <td>[{'type': 'ai_overview', 'rank_group': 1, 'ran...</td>\n",
       "      <td>Dịch vụ xếp hạng tín nhiệm là dịch vụ phân tíc...</td>\n",
       "    </tr>\n",
       "    <tr>\n",
       "      <th>3</th>\n",
       "      <td>chỉ số xếp hạng tín nhiệm</td>\n",
       "      <td>[{'type': 'ai_overview', 'rank_group': 1, 'ran...</td>\n",
       "      <td>[{'type': 'ai_overview', 'rank_group': 1, 'ran...</td>\n",
       "      <td>Chỉ số xếp hạng tín nhiệm là thước đo định tín...</td>\n",
       "    </tr>\n",
       "    <tr>\n",
       "      <th>4</th>\n",
       "      <td>điểm xếp hạng tín nhiệm</td>\n",
       "      <td>[{'type': 'organic', 'rank_group': 1, 'rank_ab...</td>\n",
       "      <td>[{'type': 'ai_overview', 'rank_group': 1, 'ran...</td>\n",
       "      <td>Điểm xếp hạng tín nhiệm là kết quả của quá trì...</td>\n",
       "    </tr>\n",
       "  </tbody>\n",
       "</table>\n",
       "</div>"
      ],
      "text/plain": [
       "                      keyword  \\\n",
       "0          xếp hạng tín nhiệm   \n",
       "1   xếp hạng tín nhiệm rating   \n",
       "2  dịch vụ xếp hạng tín nhiệm   \n",
       "3   chỉ số xếp hạng tín nhiệm   \n",
       "4     điểm xếp hạng tín nhiệm   \n",
       "\n",
       "                                               items  \\\n",
       "0  [{'type': 'organic', 'rank_group': 1, 'rank_ab...   \n",
       "1  [{'type': 'ai_overview', 'rank_group': 1, 'ran...   \n",
       "2  [{'type': 'organic', 'rank_group': 1, 'rank_ab...   \n",
       "3  [{'type': 'ai_overview', 'rank_group': 1, 'ran...   \n",
       "4  [{'type': 'organic', 'rank_group': 1, 'rank_ab...   \n",
       "\n",
       "                                                 aio  \\\n",
       "0  [{'type': 'ai_overview', 'rank_group': 1, 'ran...   \n",
       "1  [{'type': 'ai_overview', 'rank_group': 1, 'ran...   \n",
       "2  [{'type': 'ai_overview', 'rank_group': 1, 'ran...   \n",
       "3  [{'type': 'ai_overview', 'rank_group': 1, 'ran...   \n",
       "4  [{'type': 'ai_overview', 'rank_group': 1, 'ran...   \n",
       "\n",
       "                                        aio_markdown  \n",
       "0  Xếp hạng tín nhiệm là quá trình đánh giá khả n...  \n",
       "1  Xếp hạng tín nhiệm (rating) là đánh giá độc lậ...  \n",
       "2  Dịch vụ xếp hạng tín nhiệm là dịch vụ phân tíc...  \n",
       "3  Chỉ số xếp hạng tín nhiệm là thước đo định tín...  \n",
       "4  Điểm xếp hạng tín nhiệm là kết quả của quá trì...  "
      ]
     },
     "metadata": {},
     "output_type": "display_data"
    },
    {
     "name": "stdout",
     "output_type": "stream",
     "text": [
      "<class 'pandas.core.frame.DataFrame'>\n",
      "RangeIndex: 105 entries, 0 to 104\n",
      "Data columns (total 4 columns):\n",
      " #   Column        Non-Null Count  Dtype \n",
      "---  ------        --------------  ----- \n",
      " 0   keyword       105 non-null    object\n",
      " 1   items         105 non-null    object\n",
      " 2   aio           105 non-null    object\n",
      " 3   aio_markdown  104 non-null    object\n",
      "dtypes: object(4)\n",
      "memory usage: 3.4+ KB\n",
      "None\n",
      "Xếp hạng tín nhiệm là quá trình đánh giá khả năng và mức độ sẵn sàng trả nợ của một tổ chức, doanh nghiệp, hoặc quốc gia.Kết quả xếp hạng được thể hiện bằng các ký hiệu (ví dụ: AAA, AA, A, BB, C), cho biết mức độ rủi ro tín dụng đối với người cho vay hoặc nhà đầu tư.Xếp hạng tín nhiệm là một công cụ quan trọng giúp các nhà đầu tư đánh giá rủi ro, đồng thời giúp các tổ chức nâng cao uy tín và thu hút vốn.\n",
      "\n",
      "Mục đích của xếp hạng tín nhiệm:\n",
      "\n",
      "- **Đánh giá rủi ro tín dụng:** Phản ánh khả năng vỡ nợ và mức độ tổn thất tài chính có thể xảy ra khi nghĩa vụ nợ đến hạn.\n",
      "- **Hỗ trợ quyết định đầu tư:** Giúp nhà đầu tư đưa ra quyết định đầu tư dựa trên thông tin khách quan về rủi ro.\n",
      "- **Nâng cao uy tín:** Giúp các tổ chức, doanh nghiệp và quốc gia tăng cường niềm tin, cải thiện uy tín trên thị trường tài chính quốc tế.\n",
      "- **Thu hút vốn đầu tư:** Giúp một quốc gia hoặc doanh nghiệp thu hút nguồn vốn đầu tư nước ngoài hiệu quả hơn.\n",
      "\n",
      "Các yếu tố ảnh hưởng đến xếp hạng tín nhiệm:\n",
      "\n",
      "- **Chỉ số tài chính định lượng:** Nợ công, thu chi ngân sách, dự trữ ngoại hối, tăng trưởng kinh tế, lạm phát, đầu tư và lãi suất.\n",
      "- **Yếu tố định tính:** Tình hình chính trị, triển vọng kinh tế vĩ mô.\n",
      "- **Đặc thù của công cụ nợ:** Các giao ước tài chính, tài sản bảo đảm, thứ tự ưu tiên trả nợ.\n",
      "\n",
      "Các loại xếp hạng:\n",
      "\n",
      "- **Xếp hạng tổ chức:** Đánh giá chung về khả năng thanh toán của một tổ chức (doanh nghiệp, ngân hàng, chính phủ).\n",
      "- **Xếp hạng công cụ nợ:** Đánh giá một nghĩa vụ tài chính cụ thể (ví dụ: trái phiếu).\n",
      "\n",
      "Ý nghĩa của các ký hiệu xếp hạng (ví dụ thang xếp hạng quốc tế):\n",
      "\n",
      "- **AAA:** Rủi ro tín nhiệm thấp nhất, chất lượng cao nhất.\n",
      "- **A (Aaa-A):** Rủi ro tín nhiệm thấp, chất lượng cao.\n",
      "- **B (Baa-B):** Rủi ro tín dụng trung bình đến cao.\n",
      "- **C (Caa-C):** Rủi ro tín dụng cao, có khả năng vỡ nợ.\n"
     ]
    }
   ],
   "source": [
    "# clean markdown citations with regex\n",
    "import re\n",
    "\n",
    "\n",
    "## Write function to clean markdown\n",
    "def clean_markdown_citations(md: str) -> str:\n",
    "    \"\"\"\n",
    "    - Remove citation-style links: [[label]](url)\n",
    "    - Replace normal links with their visible text (exclude images)\n",
    "    - Tidy whitespace created by removals\n",
    "    \"\"\"\n",
    "    # 1) Drop citations like [[1]](http...) or [[abc]](http...)\n",
    "    md = re.sub(r'\\s*\\[\\[[^\\[\\]]+\\]\\]\\s*\\([^)]+\\)', '', md)\n",
    "\n",
    "    # 2) Turn [text](url) into \"text\", but keep images ![alt](url) intact\n",
    "    md = re.sub(r'(?<!!)\\[([^\\]]+)\\]\\([^)]+\\)', r'\\1', md)\n",
    "\n",
    "    # 2.1) Delete images ![alt](url)\n",
    "    md = re.sub(r'!\\[([^\\]]*)\\]\\([^)]+\\)', '', md)\n",
    "\n",
    "    # 3) Tidy whitespace and spacing before punctuation\n",
    "    md = re.sub(r'[ \\t]+', ' ', md)\n",
    "    md = re.sub(r'\\s+([.,;:!?])', r'\\1', md)\n",
    "\n",
    "    # 4) Trim per-line and overall\n",
    "    md = '\\n'.join(line.strip() for line in md.splitlines())\n",
    "    return md.strip()\n",
    "\n",
    "\n",
    "## Pass markdown column through the function\n",
    "df_aio['aio_markdown'] = df_aio['aio_markdown'].apply(lambda x: clean_markdown_citations(x) if x else None)\n",
    "display(df_aio.head())\n",
    "print(df_aio.info())\n",
    "print(df_aio['aio_markdown'][0])"
   ]
  },
  {
   "cell_type": "markdown",
   "id": "74de9e4e",
   "metadata": {},
   "source": [
    "## Handle references"
   ]
  },
  {
   "cell_type": "code",
   "execution_count": 54,
   "id": "3341194f",
   "metadata": {},
   "outputs": [
    {
     "data": {
      "text/html": [
       "<div>\n",
       "<style scoped>\n",
       "    .dataframe tbody tr th:only-of-type {\n",
       "        vertical-align: middle;\n",
       "    }\n",
       "\n",
       "    .dataframe tbody tr th {\n",
       "        vertical-align: top;\n",
       "    }\n",
       "\n",
       "    .dataframe thead th {\n",
       "        text-align: right;\n",
       "    }\n",
       "</style>\n",
       "<table border=\"1\" class=\"dataframe\">\n",
       "  <thead>\n",
       "    <tr style=\"text-align: right;\">\n",
       "      <th></th>\n",
       "      <th>keyword</th>\n",
       "      <th>items</th>\n",
       "      <th>aio</th>\n",
       "      <th>aio_markdown</th>\n",
       "      <th>aio_references</th>\n",
       "    </tr>\n",
       "  </thead>\n",
       "  <tbody>\n",
       "    <tr>\n",
       "      <th>0</th>\n",
       "      <td>xếp hạng tín nhiệm</td>\n",
       "      <td>[{'type': 'organic', 'rank_group': 1, 'rank_ab...</td>\n",
       "      <td>[{'type': 'ai_overview', 'rank_group': 1, 'ran...</td>\n",
       "      <td>Xếp hạng tín nhiệm là quá trình đánh giá khả n...</td>\n",
       "      <td>[{'type': 'ai_overview_reference', 'position':...</td>\n",
       "    </tr>\n",
       "    <tr>\n",
       "      <th>1</th>\n",
       "      <td>xếp hạng tín nhiệm rating</td>\n",
       "      <td>[{'type': 'ai_overview', 'rank_group': 1, 'ran...</td>\n",
       "      <td>[{'type': 'ai_overview', 'rank_group': 1, 'ran...</td>\n",
       "      <td>Xếp hạng tín nhiệm (rating) là đánh giá độc lậ...</td>\n",
       "      <td>[{'type': 'ai_overview_reference', 'position':...</td>\n",
       "    </tr>\n",
       "    <tr>\n",
       "      <th>2</th>\n",
       "      <td>dịch vụ xếp hạng tín nhiệm</td>\n",
       "      <td>[{'type': 'organic', 'rank_group': 1, 'rank_ab...</td>\n",
       "      <td>[{'type': 'ai_overview', 'rank_group': 1, 'ran...</td>\n",
       "      <td>Dịch vụ xếp hạng tín nhiệm là dịch vụ phân tíc...</td>\n",
       "      <td>[{'type': 'ai_overview_reference', 'position':...</td>\n",
       "    </tr>\n",
       "    <tr>\n",
       "      <th>3</th>\n",
       "      <td>chỉ số xếp hạng tín nhiệm</td>\n",
       "      <td>[{'type': 'ai_overview', 'rank_group': 1, 'ran...</td>\n",
       "      <td>[{'type': 'ai_overview', 'rank_group': 1, 'ran...</td>\n",
       "      <td>Chỉ số xếp hạng tín nhiệm là thước đo định tín...</td>\n",
       "      <td>[{'type': 'ai_overview_reference', 'position':...</td>\n",
       "    </tr>\n",
       "    <tr>\n",
       "      <th>4</th>\n",
       "      <td>điểm xếp hạng tín nhiệm</td>\n",
       "      <td>[{'type': 'organic', 'rank_group': 1, 'rank_ab...</td>\n",
       "      <td>[{'type': 'ai_overview', 'rank_group': 1, 'ran...</td>\n",
       "      <td>Điểm xếp hạng tín nhiệm là kết quả của quá trì...</td>\n",
       "      <td>[{'type': 'ai_overview_reference', 'position':...</td>\n",
       "    </tr>\n",
       "  </tbody>\n",
       "</table>\n",
       "</div>"
      ],
      "text/plain": [
       "                      keyword  \\\n",
       "0          xếp hạng tín nhiệm   \n",
       "1   xếp hạng tín nhiệm rating   \n",
       "2  dịch vụ xếp hạng tín nhiệm   \n",
       "3   chỉ số xếp hạng tín nhiệm   \n",
       "4     điểm xếp hạng tín nhiệm   \n",
       "\n",
       "                                               items  \\\n",
       "0  [{'type': 'organic', 'rank_group': 1, 'rank_ab...   \n",
       "1  [{'type': 'ai_overview', 'rank_group': 1, 'ran...   \n",
       "2  [{'type': 'organic', 'rank_group': 1, 'rank_ab...   \n",
       "3  [{'type': 'ai_overview', 'rank_group': 1, 'ran...   \n",
       "4  [{'type': 'organic', 'rank_group': 1, 'rank_ab...   \n",
       "\n",
       "                                                 aio  \\\n",
       "0  [{'type': 'ai_overview', 'rank_group': 1, 'ran...   \n",
       "1  [{'type': 'ai_overview', 'rank_group': 1, 'ran...   \n",
       "2  [{'type': 'ai_overview', 'rank_group': 1, 'ran...   \n",
       "3  [{'type': 'ai_overview', 'rank_group': 1, 'ran...   \n",
       "4  [{'type': 'ai_overview', 'rank_group': 1, 'ran...   \n",
       "\n",
       "                                        aio_markdown  \\\n",
       "0  Xếp hạng tín nhiệm là quá trình đánh giá khả n...   \n",
       "1  Xếp hạng tín nhiệm (rating) là đánh giá độc lậ...   \n",
       "2  Dịch vụ xếp hạng tín nhiệm là dịch vụ phân tíc...   \n",
       "3  Chỉ số xếp hạng tín nhiệm là thước đo định tín...   \n",
       "4  Điểm xếp hạng tín nhiệm là kết quả của quá trì...   \n",
       "\n",
       "                                      aio_references  \n",
       "0  [{'type': 'ai_overview_reference', 'position':...  \n",
       "1  [{'type': 'ai_overview_reference', 'position':...  \n",
       "2  [{'type': 'ai_overview_reference', 'position':...  \n",
       "3  [{'type': 'ai_overview_reference', 'position':...  \n",
       "4  [{'type': 'ai_overview_reference', 'position':...  "
      ]
     },
     "metadata": {},
     "output_type": "display_data"
    },
    {
     "name": "stdout",
     "output_type": "stream",
     "text": [
      "<class 'pandas.core.frame.DataFrame'>\n",
      "RangeIndex: 105 entries, 0 to 104\n",
      "Data columns (total 5 columns):\n",
      " #   Column          Non-Null Count  Dtype \n",
      "---  ------          --------------  ----- \n",
      " 0   keyword         105 non-null    object\n",
      " 1   items           105 non-null    object\n",
      " 2   aio             105 non-null    object\n",
      " 3   aio_markdown    104 non-null    object\n",
      " 4   aio_references  104 non-null    object\n",
      "dtypes: object(5)\n",
      "memory usage: 4.2+ KB\n",
      "None\n"
     ]
    }
   ],
   "source": [
    "# create column for aio_references\n",
    "df_aio['aio_references'] = df_aio['aio'].apply(lambda x: x[0]['references'] if x else None)\n",
    "\n",
    "display(df_aio.head())\n",
    "print(df_aio.info())"
   ]
  },
  {
   "cell_type": "code",
   "execution_count": 55,
   "id": "55aa8bb4",
   "metadata": {},
   "outputs": [
    {
     "data": {
      "text/plain": [
       "[{'rank': 1,\n",
       "  'domain': 'visrating.com',\n",
       "  'source': 'VIS Rating',\n",
       "  'url': 'https://visrating.com/tin-tuc/to-chuc-xep-hang-tin-nhiem-quoc-te.26.html'},\n",
       " {'rank': 2,\n",
       "  'domain': 'vi.wikipedia.org',\n",
       "  'source': 'Wikipedia',\n",
       "  'url': 'https://vi.wikipedia.org/wiki/Fitch_Ratings#:~:text=*%20BB:%20d%E1%BB%85%20b%E1%BB%8B%20thay%20%C4%91%E1%BB%95i%20h%C6%A1n,NR:%20kh%C3%B4ng%20%C4%91%C6%B0%E1%BB%A3c%20x%E1%BA%BFp%20h%E1%BA%A1ng%20c%C3%B4ng%20khai.'},\n",
       " {'rank': 3,\n",
       "  'domain': 'visrating.com',\n",
       "  'source': 'VIS Rating',\n",
       "  'url': 'https://visrating.com/tin-tuc/xep-hang-tin-nhiem-viet-nam.38.html#:~:text=%C4%90%C3%A2y%20l%C3%A0%20m%E1%BB%99t%20th%C6%B0%E1%BB%9Bc%20%C4%91o,tr%C6%B0%E1%BB%9Dng%20t%C3%A0i%20ch%C3%ADnh%20qu%E1%BB%91c%20t%E1%BA%BF.'},\n",
       " {'rank': 4,\n",
       "  'domain': 'visrating.com',\n",
       "  'source': 'VIS Rating',\n",
       "  'url': 'https://visrating.com/chinh-sach/xem-online/ky-hieu-xep-hang-tin-nhiem-va-dinh-nghia.1#:~:text=5-,H%E1%BB%87%20Th%E1%BB%91ng%20B%E1%BA%ADc%20X%E1%BA%BFp%20H%E1%BA%A1ng%20T%C3%ADn%20Nhi%E1%BB%87m%20Ng%E1%BA%AFn%20H%E1%BA%A1n,nh%C6%B0%20%C4%91%E1%BB%8Bnh%20ngh%C4%A9a%20d%C6%B0%E1%BB%9Bi%20%C4%91%C3%A2y.&text=A-1%20T%E1%BB%95%20ch%E1%BB%A9c%20ph%C3%A1t,giao%20d%E1%BB%8Bch%20trong%20n%C6%B0%E1%BB%9Bc%20kh%C3%A1c.'},\n",
       " {'rank': 5,\n",
       "  'domain': 'visrating.com',\n",
       "  'source': 'VIS Rating',\n",
       "  'url': 'https://visrating.com/tin-tuc/xep-hang-tin-nhiem-la-gi.24.html#:~:text=T%E1%BB%95ng%20quan%20v%E1%BB%81%20c%C3%A1c%20s%E1%BA%A3n%20ph%E1%BA%A9m%20huy%20%C4%91%E1%BB%99ng%20v%E1%BB%91n%20c%E1%BB%A7a%20ng%C3%A2n%20h%C3%A0ng&text=X%E1%BA%BFp%20h%E1%BA%A1ng%20t%C3%ADn%20nhi%E1%BB%87m%20l%C3%A0%20m%E1%BB%99t%20ch%E1%BB%89%20s%E1%BB%91%20quan%20tr%E1%BB%8Dng,%C4%91%E1%BB%91i%20t%C3%A1c%20v%C3%A0%20kh%C3%A1ch%20h%C3%A0ng.'},\n",
       " {'rank': 6,\n",
       "  'domain': 'visrating.com',\n",
       "  'source': 'VIS Rating',\n",
       "  'url': 'https://visrating.com/news/moodys-credit-rating.50.html'},\n",
       " {'rank': 7,\n",
       "  'domain': 'tikop.vn',\n",
       "  'source': 'Tikop',\n",
       "  'url': 'https://tikop.vn/blog/xep-hang-tin-dung-la-gi-tieu-chi-va-thang-diem-xep-hang-tin-dung-7421#:~:text=d%E1%BB%A5ng%20l%C3%A0%20g%C3%AC?-,Kh%C3%A1i%20ni%E1%BB%87m%20x%E1%BA%BFp%20h%E1%BA%A1ng%20t%C3%ADn%20d%E1%BB%A5ng,n%E1%BB%A3%2C%20t%C3%ACnh%20h%C3%ACnh%20t%C3%A0i%20ch%C3%ADnh.'},\n",
       " {'rank': 8,\n",
       "  'domain': 'sniratings.com.vn',\n",
       "  'source': 'S&I Ratings',\n",
       "  'url': 'https://sniratings.com.vn/phuong-phap-xep-hang-tin-nhiem/'},\n",
       " {'rank': 9,\n",
       "  'domain': 'saigonratings.com',\n",
       "  'source': 'Saigon Ratings',\n",
       "  'url': 'https://saigonratings.com/xep-hang-tin-nhiem-la-gi-vai-tro-va-y-nghia/#:~:text=X%E1%BA%BFp%20h%E1%BA%A1ng%20t%C3%ADn%20nhi%E1%BB%87m%20(Credit,vay%20ho%E1%BA%B7c%20nh%C3%A0%20%C4%91%E1%BA%A7u%20t%C6%B0.'}]"
      ]
     },
     "metadata": {},
     "output_type": "display_data"
    },
    {
     "data": {
      "text/html": [
       "<div>\n",
       "<style scoped>\n",
       "    .dataframe tbody tr th:only-of-type {\n",
       "        vertical-align: middle;\n",
       "    }\n",
       "\n",
       "    .dataframe tbody tr th {\n",
       "        vertical-align: top;\n",
       "    }\n",
       "\n",
       "    .dataframe thead th {\n",
       "        text-align: right;\n",
       "    }\n",
       "</style>\n",
       "<table border=\"1\" class=\"dataframe\">\n",
       "  <thead>\n",
       "    <tr style=\"text-align: right;\">\n",
       "      <th></th>\n",
       "      <th>keyword</th>\n",
       "      <th>items</th>\n",
       "      <th>aio</th>\n",
       "      <th>aio_markdown</th>\n",
       "      <th>aio_references</th>\n",
       "    </tr>\n",
       "  </thead>\n",
       "  <tbody>\n",
       "    <tr>\n",
       "      <th>0</th>\n",
       "      <td>xếp hạng tín nhiệm</td>\n",
       "      <td>[{'type': 'organic', 'rank_group': 1, 'rank_ab...</td>\n",
       "      <td>[{'type': 'ai_overview', 'rank_group': 1, 'ran...</td>\n",
       "      <td>Xếp hạng tín nhiệm là quá trình đánh giá khả n...</td>\n",
       "      <td>[{'rank': 1, 'domain': 'fiinratings.vn', 'sour...</td>\n",
       "    </tr>\n",
       "    <tr>\n",
       "      <th>1</th>\n",
       "      <td>xếp hạng tín nhiệm rating</td>\n",
       "      <td>[{'type': 'ai_overview', 'rank_group': 1, 'ran...</td>\n",
       "      <td>[{'type': 'ai_overview', 'rank_group': 1, 'ran...</td>\n",
       "      <td>Xếp hạng tín nhiệm (rating) là đánh giá độc lậ...</td>\n",
       "      <td>[{'rank': 1, 'domain': 'visrating.com', 'sourc...</td>\n",
       "    </tr>\n",
       "    <tr>\n",
       "      <th>2</th>\n",
       "      <td>dịch vụ xếp hạng tín nhiệm</td>\n",
       "      <td>[{'type': 'organic', 'rank_group': 1, 'rank_ab...</td>\n",
       "      <td>[{'type': 'ai_overview', 'rank_group': 1, 'ran...</td>\n",
       "      <td>Dịch vụ xếp hạng tín nhiệm là dịch vụ phân tíc...</td>\n",
       "      <td>[{'rank': 1, 'domain': 'saigonratings.com', 's...</td>\n",
       "    </tr>\n",
       "    <tr>\n",
       "      <th>3</th>\n",
       "      <td>chỉ số xếp hạng tín nhiệm</td>\n",
       "      <td>[{'type': 'ai_overview', 'rank_group': 1, 'ran...</td>\n",
       "      <td>[{'type': 'ai_overview', 'rank_group': 1, 'ran...</td>\n",
       "      <td>Chỉ số xếp hạng tín nhiệm là thước đo định tín...</td>\n",
       "      <td>[{'rank': 1, 'domain': 'baochinhphu.vn', 'sour...</td>\n",
       "    </tr>\n",
       "    <tr>\n",
       "      <th>4</th>\n",
       "      <td>điểm xếp hạng tín nhiệm</td>\n",
       "      <td>[{'type': 'organic', 'rank_group': 1, 'rank_ab...</td>\n",
       "      <td>[{'type': 'ai_overview', 'rank_group': 1, 'ran...</td>\n",
       "      <td>Điểm xếp hạng tín nhiệm là kết quả của quá trì...</td>\n",
       "      <td>[{'rank': 1, 'domain': 'fiinratings.vn', 'sour...</td>\n",
       "    </tr>\n",
       "  </tbody>\n",
       "</table>\n",
       "</div>"
      ],
      "text/plain": [
       "                      keyword  \\\n",
       "0          xếp hạng tín nhiệm   \n",
       "1   xếp hạng tín nhiệm rating   \n",
       "2  dịch vụ xếp hạng tín nhiệm   \n",
       "3   chỉ số xếp hạng tín nhiệm   \n",
       "4     điểm xếp hạng tín nhiệm   \n",
       "\n",
       "                                               items  \\\n",
       "0  [{'type': 'organic', 'rank_group': 1, 'rank_ab...   \n",
       "1  [{'type': 'ai_overview', 'rank_group': 1, 'ran...   \n",
       "2  [{'type': 'organic', 'rank_group': 1, 'rank_ab...   \n",
       "3  [{'type': 'ai_overview', 'rank_group': 1, 'ran...   \n",
       "4  [{'type': 'organic', 'rank_group': 1, 'rank_ab...   \n",
       "\n",
       "                                                 aio  \\\n",
       "0  [{'type': 'ai_overview', 'rank_group': 1, 'ran...   \n",
       "1  [{'type': 'ai_overview', 'rank_group': 1, 'ran...   \n",
       "2  [{'type': 'ai_overview', 'rank_group': 1, 'ran...   \n",
       "3  [{'type': 'ai_overview', 'rank_group': 1, 'ran...   \n",
       "4  [{'type': 'ai_overview', 'rank_group': 1, 'ran...   \n",
       "\n",
       "                                        aio_markdown  \\\n",
       "0  Xếp hạng tín nhiệm là quá trình đánh giá khả n...   \n",
       "1  Xếp hạng tín nhiệm (rating) là đánh giá độc lậ...   \n",
       "2  Dịch vụ xếp hạng tín nhiệm là dịch vụ phân tíc...   \n",
       "3  Chỉ số xếp hạng tín nhiệm là thước đo định tín...   \n",
       "4  Điểm xếp hạng tín nhiệm là kết quả của quá trì...   \n",
       "\n",
       "                                      aio_references  \n",
       "0  [{'rank': 1, 'domain': 'fiinratings.vn', 'sour...  \n",
       "1  [{'rank': 1, 'domain': 'visrating.com', 'sourc...  \n",
       "2  [{'rank': 1, 'domain': 'saigonratings.com', 's...  \n",
       "3  [{'rank': 1, 'domain': 'baochinhphu.vn', 'sour...  \n",
       "4  [{'rank': 1, 'domain': 'fiinratings.vn', 'sour...  "
      ]
     },
     "metadata": {},
     "output_type": "display_data"
    }
   ],
   "source": [
    "# clean the dict keys\n",
    "def clean_dict_keys(list_of_dicts: list) -> list:\n",
    "    cleaned_list = []\n",
    "    for idx, item in enumerate(list_of_dicts, start=1):\n",
    "        # Create dictionary with keys in desired order\n",
    "        cleaned_dict = {\n",
    "            'rank': idx,\n",
    "            'domain': item.get('domain', ''),\n",
    "            'source': item.get('source', ''),\n",
    "            'url': item.get('url', '')\n",
    "        }\n",
    "        cleaned_list.append(cleaned_dict)\n",
    "    return cleaned_list\n",
    "\n",
    "# apply the function to aio_references column\n",
    "df_aio['aio_references'] = df_aio['aio_references'].apply(lambda x: clean_dict_keys(x) if x else None)\n",
    "\n",
    "# preview aio_markdown\n",
    "display(df_aio['aio_references'][5])\n",
    "display(df_aio.head())\n",
    "# df_aio['aio_references'][0]"
   ]
  },
  {
   "cell_type": "code",
   "execution_count": 56,
   "id": "b45f40ce",
   "metadata": {},
   "outputs": [
    {
     "data": {
      "text/html": [
       "<div>\n",
       "<style scoped>\n",
       "    .dataframe tbody tr th:only-of-type {\n",
       "        vertical-align: middle;\n",
       "    }\n",
       "\n",
       "    .dataframe tbody tr th {\n",
       "        vertical-align: top;\n",
       "    }\n",
       "\n",
       "    .dataframe thead th {\n",
       "        text-align: right;\n",
       "    }\n",
       "</style>\n",
       "<table border=\"1\" class=\"dataframe\">\n",
       "  <thead>\n",
       "    <tr style=\"text-align: right;\">\n",
       "      <th></th>\n",
       "      <th>keyword</th>\n",
       "      <th>items</th>\n",
       "      <th>aio</th>\n",
       "      <th>aio_markdown</th>\n",
       "      <th>aio_references</th>\n",
       "      <th>aio_references_count</th>\n",
       "    </tr>\n",
       "  </thead>\n",
       "  <tbody>\n",
       "    <tr>\n",
       "      <th>0</th>\n",
       "      <td>xếp hạng tín nhiệm</td>\n",
       "      <td>[{'type': 'organic', 'rank_group': 1, 'rank_ab...</td>\n",
       "      <td>[{'type': 'ai_overview', 'rank_group': 1, 'ran...</td>\n",
       "      <td>Xếp hạng tín nhiệm là quá trình đánh giá khả n...</td>\n",
       "      <td>[{'rank': 1, 'domain': 'fiinratings.vn', 'sour...</td>\n",
       "      <td>8</td>\n",
       "    </tr>\n",
       "    <tr>\n",
       "      <th>1</th>\n",
       "      <td>xếp hạng tín nhiệm rating</td>\n",
       "      <td>[{'type': 'ai_overview', 'rank_group': 1, 'ran...</td>\n",
       "      <td>[{'type': 'ai_overview', 'rank_group': 1, 'ran...</td>\n",
       "      <td>Xếp hạng tín nhiệm (rating) là đánh giá độc lậ...</td>\n",
       "      <td>[{'rank': 1, 'domain': 'visrating.com', 'sourc...</td>\n",
       "      <td>11</td>\n",
       "    </tr>\n",
       "    <tr>\n",
       "      <th>2</th>\n",
       "      <td>dịch vụ xếp hạng tín nhiệm</td>\n",
       "      <td>[{'type': 'organic', 'rank_group': 1, 'rank_ab...</td>\n",
       "      <td>[{'type': 'ai_overview', 'rank_group': 1, 'ran...</td>\n",
       "      <td>Dịch vụ xếp hạng tín nhiệm là dịch vụ phân tíc...</td>\n",
       "      <td>[{'rank': 1, 'domain': 'saigonratings.com', 's...</td>\n",
       "      <td>13</td>\n",
       "    </tr>\n",
       "    <tr>\n",
       "      <th>3</th>\n",
       "      <td>chỉ số xếp hạng tín nhiệm</td>\n",
       "      <td>[{'type': 'ai_overview', 'rank_group': 1, 'ran...</td>\n",
       "      <td>[{'type': 'ai_overview', 'rank_group': 1, 'ran...</td>\n",
       "      <td>Chỉ số xếp hạng tín nhiệm là thước đo định tín...</td>\n",
       "      <td>[{'rank': 1, 'domain': 'baochinhphu.vn', 'sour...</td>\n",
       "      <td>7</td>\n",
       "    </tr>\n",
       "    <tr>\n",
       "      <th>4</th>\n",
       "      <td>điểm xếp hạng tín nhiệm</td>\n",
       "      <td>[{'type': 'organic', 'rank_group': 1, 'rank_ab...</td>\n",
       "      <td>[{'type': 'ai_overview', 'rank_group': 1, 'ran...</td>\n",
       "      <td>Điểm xếp hạng tín nhiệm là kết quả của quá trì...</td>\n",
       "      <td>[{'rank': 1, 'domain': 'fiinratings.vn', 'sour...</td>\n",
       "      <td>11</td>\n",
       "    </tr>\n",
       "  </tbody>\n",
       "</table>\n",
       "</div>"
      ],
      "text/plain": [
       "                      keyword  \\\n",
       "0          xếp hạng tín nhiệm   \n",
       "1   xếp hạng tín nhiệm rating   \n",
       "2  dịch vụ xếp hạng tín nhiệm   \n",
       "3   chỉ số xếp hạng tín nhiệm   \n",
       "4     điểm xếp hạng tín nhiệm   \n",
       "\n",
       "                                               items  \\\n",
       "0  [{'type': 'organic', 'rank_group': 1, 'rank_ab...   \n",
       "1  [{'type': 'ai_overview', 'rank_group': 1, 'ran...   \n",
       "2  [{'type': 'organic', 'rank_group': 1, 'rank_ab...   \n",
       "3  [{'type': 'ai_overview', 'rank_group': 1, 'ran...   \n",
       "4  [{'type': 'organic', 'rank_group': 1, 'rank_ab...   \n",
       "\n",
       "                                                 aio  \\\n",
       "0  [{'type': 'ai_overview', 'rank_group': 1, 'ran...   \n",
       "1  [{'type': 'ai_overview', 'rank_group': 1, 'ran...   \n",
       "2  [{'type': 'ai_overview', 'rank_group': 1, 'ran...   \n",
       "3  [{'type': 'ai_overview', 'rank_group': 1, 'ran...   \n",
       "4  [{'type': 'ai_overview', 'rank_group': 1, 'ran...   \n",
       "\n",
       "                                        aio_markdown  \\\n",
       "0  Xếp hạng tín nhiệm là quá trình đánh giá khả n...   \n",
       "1  Xếp hạng tín nhiệm (rating) là đánh giá độc lậ...   \n",
       "2  Dịch vụ xếp hạng tín nhiệm là dịch vụ phân tíc...   \n",
       "3  Chỉ số xếp hạng tín nhiệm là thước đo định tín...   \n",
       "4  Điểm xếp hạng tín nhiệm là kết quả của quá trì...   \n",
       "\n",
       "                                      aio_references  aio_references_count  \n",
       "0  [{'rank': 1, 'domain': 'fiinratings.vn', 'sour...                     8  \n",
       "1  [{'rank': 1, 'domain': 'visrating.com', 'sourc...                    11  \n",
       "2  [{'rank': 1, 'domain': 'saigonratings.com', 's...                    13  \n",
       "3  [{'rank': 1, 'domain': 'baochinhphu.vn', 'sour...                     7  \n",
       "4  [{'rank': 1, 'domain': 'fiinratings.vn', 'sour...                    11  "
      ]
     },
     "metadata": {},
     "output_type": "display_data"
    },
    {
     "name": "stdout",
     "output_type": "stream",
     "text": [
      "<class 'pandas.core.frame.DataFrame'>\n",
      "RangeIndex: 105 entries, 0 to 104\n",
      "Data columns (total 6 columns):\n",
      " #   Column                Non-Null Count  Dtype \n",
      "---  ------                --------------  ----- \n",
      " 0   keyword               105 non-null    object\n",
      " 1   items                 105 non-null    object\n",
      " 2   aio                   105 non-null    object\n",
      " 3   aio_markdown          104 non-null    object\n",
      " 4   aio_references        104 non-null    object\n",
      " 5   aio_references_count  105 non-null    int64 \n",
      "dtypes: int64(1), object(5)\n",
      "memory usage: 5.1+ KB\n",
      "None\n"
     ]
    }
   ],
   "source": [
    "# create column for number of references\n",
    "df_aio['aio_references_count'] = df_aio['aio_references'].apply(lambda x: len(x) if x else 0)\n",
    "\n",
    "display(df_aio.head())\n",
    "print(df_aio.info())"
   ]
  },
  {
   "cell_type": "markdown",
   "id": "fae0f0c4",
   "metadata": {},
   "source": [
    "## Export Data"
   ]
  },
  {
   "cell_type": "code",
   "execution_count": 57,
   "id": "82ee0ee7",
   "metadata": {},
   "outputs": [
    {
     "data": {
      "text/html": [
       "<div>\n",
       "<style scoped>\n",
       "    .dataframe tbody tr th:only-of-type {\n",
       "        vertical-align: middle;\n",
       "    }\n",
       "\n",
       "    .dataframe tbody tr th {\n",
       "        vertical-align: top;\n",
       "    }\n",
       "\n",
       "    .dataframe thead th {\n",
       "        text-align: right;\n",
       "    }\n",
       "</style>\n",
       "<table border=\"1\" class=\"dataframe\">\n",
       "  <thead>\n",
       "    <tr style=\"text-align: right;\">\n",
       "      <th></th>\n",
       "      <th>keyword</th>\n",
       "      <th>items</th>\n",
       "      <th>aio</th>\n",
       "      <th>aio_markdown</th>\n",
       "      <th>aio_references</th>\n",
       "      <th>aio_references_count</th>\n",
       "      <th>visrating_rank</th>\n",
       "    </tr>\n",
       "  </thead>\n",
       "  <tbody>\n",
       "    <tr>\n",
       "      <th>0</th>\n",
       "      <td>xếp hạng tín nhiệm</td>\n",
       "      <td>[{'type': 'organic', 'rank_group': 1, 'rank_ab...</td>\n",
       "      <td>[{'type': 'ai_overview', 'rank_group': 1, 'ran...</td>\n",
       "      <td>Xếp hạng tín nhiệm là quá trình đánh giá khả n...</td>\n",
       "      <td>[{'rank': 1, 'domain': 'fiinratings.vn', 'sour...</td>\n",
       "      <td>8</td>\n",
       "      <td>2.0</td>\n",
       "    </tr>\n",
       "    <tr>\n",
       "      <th>1</th>\n",
       "      <td>xếp hạng tín nhiệm rating</td>\n",
       "      <td>[{'type': 'ai_overview', 'rank_group': 1, 'ran...</td>\n",
       "      <td>[{'type': 'ai_overview', 'rank_group': 1, 'ran...</td>\n",
       "      <td>Xếp hạng tín nhiệm (rating) là đánh giá độc lậ...</td>\n",
       "      <td>[{'rank': 1, 'domain': 'visrating.com', 'sourc...</td>\n",
       "      <td>11</td>\n",
       "      <td>1.0</td>\n",
       "    </tr>\n",
       "    <tr>\n",
       "      <th>2</th>\n",
       "      <td>dịch vụ xếp hạng tín nhiệm</td>\n",
       "      <td>[{'type': 'organic', 'rank_group': 1, 'rank_ab...</td>\n",
       "      <td>[{'type': 'ai_overview', 'rank_group': 1, 'ran...</td>\n",
       "      <td>Dịch vụ xếp hạng tín nhiệm là dịch vụ phân tíc...</td>\n",
       "      <td>[{'rank': 1, 'domain': 'saigonratings.com', 's...</td>\n",
       "      <td>13</td>\n",
       "      <td>4.0</td>\n",
       "    </tr>\n",
       "    <tr>\n",
       "      <th>3</th>\n",
       "      <td>chỉ số xếp hạng tín nhiệm</td>\n",
       "      <td>[{'type': 'ai_overview', 'rank_group': 1, 'ran...</td>\n",
       "      <td>[{'type': 'ai_overview', 'rank_group': 1, 'ran...</td>\n",
       "      <td>Chỉ số xếp hạng tín nhiệm là thước đo định tín...</td>\n",
       "      <td>[{'rank': 1, 'domain': 'baochinhphu.vn', 'sour...</td>\n",
       "      <td>7</td>\n",
       "      <td>2.0</td>\n",
       "    </tr>\n",
       "    <tr>\n",
       "      <th>4</th>\n",
       "      <td>điểm xếp hạng tín nhiệm</td>\n",
       "      <td>[{'type': 'organic', 'rank_group': 1, 'rank_ab...</td>\n",
       "      <td>[{'type': 'ai_overview', 'rank_group': 1, 'ran...</td>\n",
       "      <td>Điểm xếp hạng tín nhiệm là kết quả của quá trì...</td>\n",
       "      <td>[{'rank': 1, 'domain': 'fiinratings.vn', 'sour...</td>\n",
       "      <td>11</td>\n",
       "      <td>2.0</td>\n",
       "    </tr>\n",
       "    <tr>\n",
       "      <th>5</th>\n",
       "      <td>thang xếp hạng tín nhiệm</td>\n",
       "      <td>[{'type': 'organic', 'rank_group': 1, 'rank_ab...</td>\n",
       "      <td>[{'type': 'ai_overview', 'rank_group': 1, 'ran...</td>\n",
       "      <td>Thang xếp hạng tín nhiệm là hệ thống các chữ c...</td>\n",
       "      <td>[{'rank': 1, 'domain': 'visrating.com', 'sourc...</td>\n",
       "      <td>9</td>\n",
       "      <td>1.0</td>\n",
       "    </tr>\n",
       "    <tr>\n",
       "      <th>6</th>\n",
       "      <td>danh sách xếp hạng tín nhiệm</td>\n",
       "      <td>[{'type': 'organic', 'rank_group': 1, 'rank_ab...</td>\n",
       "      <td>[{'type': 'ai_overview', 'rank_group': 1, 'ran...</td>\n",
       "      <td>Danh sách xếp hạng tín nhiệm là bảng đánh giá ...</td>\n",
       "      <td>[{'rank': 1, 'domain': 'vi.wikipedia.org', 'so...</td>\n",
       "      <td>9</td>\n",
       "      <td>6.0</td>\n",
       "    </tr>\n",
       "    <tr>\n",
       "      <th>7</th>\n",
       "      <td>xếp hạng tín nhiệm ảnh hưởng thế nào</td>\n",
       "      <td>[{'type': 'ai_overview', 'rank_group': 1, 'ran...</td>\n",
       "      <td>[{'type': 'ai_overview', 'rank_group': 1, 'ran...</td>\n",
       "      <td>Xếp hạng tín nhiệm ảnh hưởng lớn đến khả năng ...</td>\n",
       "      <td>[{'rank': 1, 'domain': 'visrating.com', 'sourc...</td>\n",
       "      <td>3</td>\n",
       "      <td>1.0</td>\n",
       "    </tr>\n",
       "    <tr>\n",
       "      <th>8</th>\n",
       "      <td>tác động của xếp hạng tín nhiệm</td>\n",
       "      <td>[{'type': 'ai_overview', 'rank_group': 1, 'ran...</td>\n",
       "      <td>[{'type': 'ai_overview', 'rank_group': 1, 'ran...</td>\n",
       "      <td>Xếp hạng tín nhiệm có tác động lớn đến khả năn...</td>\n",
       "      <td>[{'rank': 1, 'domain': 'visrating.com', 'sourc...</td>\n",
       "      <td>8</td>\n",
       "      <td>1.0</td>\n",
       "    </tr>\n",
       "    <tr>\n",
       "      <th>9</th>\n",
       "      <td>xếp hạng tín nhiệm doanh nghiệp</td>\n",
       "      <td>[{'type': 'organic', 'rank_group': 1, 'rank_ab...</td>\n",
       "      <td>[{'type': 'ai_overview', 'rank_group': 1, 'ran...</td>\n",
       "      <td>Xếp hạng tín nhiệm doanh nghiệp là đánh giá độ...</td>\n",
       "      <td>[{'rank': 1, 'domain': 'tapchixaydung.vn', 'so...</td>\n",
       "      <td>11</td>\n",
       "      <td>4.0</td>\n",
       "    </tr>\n",
       "  </tbody>\n",
       "</table>\n",
       "</div>"
      ],
      "text/plain": [
       "                                keyword  \\\n",
       "0                    xếp hạng tín nhiệm   \n",
       "1             xếp hạng tín nhiệm rating   \n",
       "2            dịch vụ xếp hạng tín nhiệm   \n",
       "3             chỉ số xếp hạng tín nhiệm   \n",
       "4               điểm xếp hạng tín nhiệm   \n",
       "5              thang xếp hạng tín nhiệm   \n",
       "6          danh sách xếp hạng tín nhiệm   \n",
       "7  xếp hạng tín nhiệm ảnh hưởng thế nào   \n",
       "8       tác động của xếp hạng tín nhiệm   \n",
       "9       xếp hạng tín nhiệm doanh nghiệp   \n",
       "\n",
       "                                               items  \\\n",
       "0  [{'type': 'organic', 'rank_group': 1, 'rank_ab...   \n",
       "1  [{'type': 'ai_overview', 'rank_group': 1, 'ran...   \n",
       "2  [{'type': 'organic', 'rank_group': 1, 'rank_ab...   \n",
       "3  [{'type': 'ai_overview', 'rank_group': 1, 'ran...   \n",
       "4  [{'type': 'organic', 'rank_group': 1, 'rank_ab...   \n",
       "5  [{'type': 'organic', 'rank_group': 1, 'rank_ab...   \n",
       "6  [{'type': 'organic', 'rank_group': 1, 'rank_ab...   \n",
       "7  [{'type': 'ai_overview', 'rank_group': 1, 'ran...   \n",
       "8  [{'type': 'ai_overview', 'rank_group': 1, 'ran...   \n",
       "9  [{'type': 'organic', 'rank_group': 1, 'rank_ab...   \n",
       "\n",
       "                                                 aio  \\\n",
       "0  [{'type': 'ai_overview', 'rank_group': 1, 'ran...   \n",
       "1  [{'type': 'ai_overview', 'rank_group': 1, 'ran...   \n",
       "2  [{'type': 'ai_overview', 'rank_group': 1, 'ran...   \n",
       "3  [{'type': 'ai_overview', 'rank_group': 1, 'ran...   \n",
       "4  [{'type': 'ai_overview', 'rank_group': 1, 'ran...   \n",
       "5  [{'type': 'ai_overview', 'rank_group': 1, 'ran...   \n",
       "6  [{'type': 'ai_overview', 'rank_group': 1, 'ran...   \n",
       "7  [{'type': 'ai_overview', 'rank_group': 1, 'ran...   \n",
       "8  [{'type': 'ai_overview', 'rank_group': 1, 'ran...   \n",
       "9  [{'type': 'ai_overview', 'rank_group': 1, 'ran...   \n",
       "\n",
       "                                        aio_markdown  \\\n",
       "0  Xếp hạng tín nhiệm là quá trình đánh giá khả n...   \n",
       "1  Xếp hạng tín nhiệm (rating) là đánh giá độc lậ...   \n",
       "2  Dịch vụ xếp hạng tín nhiệm là dịch vụ phân tíc...   \n",
       "3  Chỉ số xếp hạng tín nhiệm là thước đo định tín...   \n",
       "4  Điểm xếp hạng tín nhiệm là kết quả của quá trì...   \n",
       "5  Thang xếp hạng tín nhiệm là hệ thống các chữ c...   \n",
       "6  Danh sách xếp hạng tín nhiệm là bảng đánh giá ...   \n",
       "7  Xếp hạng tín nhiệm ảnh hưởng lớn đến khả năng ...   \n",
       "8  Xếp hạng tín nhiệm có tác động lớn đến khả năn...   \n",
       "9  Xếp hạng tín nhiệm doanh nghiệp là đánh giá độ...   \n",
       "\n",
       "                                      aio_references  aio_references_count  \\\n",
       "0  [{'rank': 1, 'domain': 'fiinratings.vn', 'sour...                     8   \n",
       "1  [{'rank': 1, 'domain': 'visrating.com', 'sourc...                    11   \n",
       "2  [{'rank': 1, 'domain': 'saigonratings.com', 's...                    13   \n",
       "3  [{'rank': 1, 'domain': 'baochinhphu.vn', 'sour...                     7   \n",
       "4  [{'rank': 1, 'domain': 'fiinratings.vn', 'sour...                    11   \n",
       "5  [{'rank': 1, 'domain': 'visrating.com', 'sourc...                     9   \n",
       "6  [{'rank': 1, 'domain': 'vi.wikipedia.org', 'so...                     9   \n",
       "7  [{'rank': 1, 'domain': 'visrating.com', 'sourc...                     3   \n",
       "8  [{'rank': 1, 'domain': 'visrating.com', 'sourc...                     8   \n",
       "9  [{'rank': 1, 'domain': 'tapchixaydung.vn', 'so...                    11   \n",
       "\n",
       "   visrating_rank  \n",
       "0             2.0  \n",
       "1             1.0  \n",
       "2             4.0  \n",
       "3             2.0  \n",
       "4             2.0  \n",
       "5             1.0  \n",
       "6             6.0  \n",
       "7             1.0  \n",
       "8             1.0  \n",
       "9             4.0  "
      ]
     },
     "metadata": {},
     "output_type": "display_data"
    },
    {
     "name": "stdout",
     "output_type": "stream",
     "text": [
      "<class 'pandas.core.frame.DataFrame'>\n",
      "RangeIndex: 105 entries, 0 to 104\n",
      "Data columns (total 7 columns):\n",
      " #   Column                Non-Null Count  Dtype  \n",
      "---  ------                --------------  -----  \n",
      " 0   keyword               105 non-null    object \n",
      " 1   items                 105 non-null    object \n",
      " 2   aio                   105 non-null    object \n",
      " 3   aio_markdown          104 non-null    object \n",
      " 4   aio_references        104 non-null    object \n",
      " 5   aio_references_count  105 non-null    int64  \n",
      " 6   visrating_rank        90 non-null     float64\n",
      "dtypes: float64(1), int64(1), object(5)\n",
      "memory usage: 5.9+ KB\n",
      "None\n"
     ]
    }
   ],
   "source": [
    "# GET BRAND CITATION RANKING\n",
    "def get_brand_rank(references: list) -> int:\n",
    "    if references:\n",
    "        for ref in references:\n",
    "            if brand_domain in ref['domain'].lower() or brand_name in ref['source'].lower():\n",
    "                return ref['rank']\n",
    "    return None\n",
    "\n",
    "df_aio[f\"{brand_name}_rank\"] = df_aio['aio_references'].apply(get_brand_rank)\n",
    "\n",
    "display(df_aio.head(10))\n",
    "print(df_aio.info())"
   ]
  },
  {
   "cell_type": "code",
   "execution_count": 58,
   "id": "5bd151ad",
   "metadata": {},
   "outputs": [
    {
     "data": {
      "text/html": [
       "<div>\n",
       "<style scoped>\n",
       "    .dataframe tbody tr th:only-of-type {\n",
       "        vertical-align: middle;\n",
       "    }\n",
       "\n",
       "    .dataframe tbody tr th {\n",
       "        vertical-align: top;\n",
       "    }\n",
       "\n",
       "    .dataframe thead th {\n",
       "        text-align: right;\n",
       "    }\n",
       "</style>\n",
       "<table border=\"1\" class=\"dataframe\">\n",
       "  <thead>\n",
       "    <tr style=\"text-align: right;\">\n",
       "      <th></th>\n",
       "      <th>keyword</th>\n",
       "      <th>raw_data</th>\n",
       "      <th>aio_markdown</th>\n",
       "      <th>aio_references</th>\n",
       "      <th>aio_references_count</th>\n",
       "      <th>visrating_rank</th>\n",
       "    </tr>\n",
       "  </thead>\n",
       "  <tbody>\n",
       "    <tr>\n",
       "      <th>0</th>\n",
       "      <td>xếp hạng tín nhiệm</td>\n",
       "      <td>{'keyword': 'xếp hạng tín nhiệm', 'type': 'org...</td>\n",
       "      <td>Xếp hạng tín nhiệm là quá trình đánh giá khả n...</td>\n",
       "      <td>[{'rank': 1, 'domain': 'fiinratings.vn', 'sour...</td>\n",
       "      <td>8.0</td>\n",
       "      <td>2.0</td>\n",
       "    </tr>\n",
       "    <tr>\n",
       "      <th>1</th>\n",
       "      <td>xếp hạng tín nhiệm rating</td>\n",
       "      <td>{'keyword': 'xếp hạng tín nhiệm rating', 'type...</td>\n",
       "      <td>Xếp hạng tín nhiệm (rating) là đánh giá độc lậ...</td>\n",
       "      <td>[{'rank': 1, 'domain': 'visrating.com', 'sourc...</td>\n",
       "      <td>11.0</td>\n",
       "      <td>1.0</td>\n",
       "    </tr>\n",
       "    <tr>\n",
       "      <th>2</th>\n",
       "      <td>dịch vụ xếp hạng tín nhiệm</td>\n",
       "      <td>{'keyword': 'dịch vụ xếp hạng tín nhiệm', 'typ...</td>\n",
       "      <td>Dịch vụ xếp hạng tín nhiệm là dịch vụ phân tíc...</td>\n",
       "      <td>[{'rank': 1, 'domain': 'saigonratings.com', 's...</td>\n",
       "      <td>13.0</td>\n",
       "      <td>4.0</td>\n",
       "    </tr>\n",
       "    <tr>\n",
       "      <th>3</th>\n",
       "      <td>chỉ số xếp hạng tín nhiệm</td>\n",
       "      <td>{'keyword': 'chỉ số xếp hạng tín nhiệm', 'type...</td>\n",
       "      <td>Chỉ số xếp hạng tín nhiệm là thước đo định tín...</td>\n",
       "      <td>[{'rank': 1, 'domain': 'baochinhphu.vn', 'sour...</td>\n",
       "      <td>7.0</td>\n",
       "      <td>2.0</td>\n",
       "    </tr>\n",
       "    <tr>\n",
       "      <th>4</th>\n",
       "      <td>điểm xếp hạng tín nhiệm</td>\n",
       "      <td>{'keyword': 'điểm xếp hạng tín nhiệm', 'type':...</td>\n",
       "      <td>Điểm xếp hạng tín nhiệm là kết quả của quá trì...</td>\n",
       "      <td>[{'rank': 1, 'domain': 'fiinratings.vn', 'sour...</td>\n",
       "      <td>11.0</td>\n",
       "      <td>2.0</td>\n",
       "    </tr>\n",
       "  </tbody>\n",
       "</table>\n",
       "</div>"
      ],
      "text/plain": [
       "                      keyword  \\\n",
       "0          xếp hạng tín nhiệm   \n",
       "1   xếp hạng tín nhiệm rating   \n",
       "2  dịch vụ xếp hạng tín nhiệm   \n",
       "3   chỉ số xếp hạng tín nhiệm   \n",
       "4     điểm xếp hạng tín nhiệm   \n",
       "\n",
       "                                            raw_data  \\\n",
       "0  {'keyword': 'xếp hạng tín nhiệm', 'type': 'org...   \n",
       "1  {'keyword': 'xếp hạng tín nhiệm rating', 'type...   \n",
       "2  {'keyword': 'dịch vụ xếp hạng tín nhiệm', 'typ...   \n",
       "3  {'keyword': 'chỉ số xếp hạng tín nhiệm', 'type...   \n",
       "4  {'keyword': 'điểm xếp hạng tín nhiệm', 'type':...   \n",
       "\n",
       "                                        aio_markdown  \\\n",
       "0  Xếp hạng tín nhiệm là quá trình đánh giá khả n...   \n",
       "1  Xếp hạng tín nhiệm (rating) là đánh giá độc lậ...   \n",
       "2  Dịch vụ xếp hạng tín nhiệm là dịch vụ phân tíc...   \n",
       "3  Chỉ số xếp hạng tín nhiệm là thước đo định tín...   \n",
       "4  Điểm xếp hạng tín nhiệm là kết quả của quá trì...   \n",
       "\n",
       "                                      aio_references  aio_references_count  \\\n",
       "0  [{'rank': 1, 'domain': 'fiinratings.vn', 'sour...                   8.0   \n",
       "1  [{'rank': 1, 'domain': 'visrating.com', 'sourc...                  11.0   \n",
       "2  [{'rank': 1, 'domain': 'saigonratings.com', 's...                  13.0   \n",
       "3  [{'rank': 1, 'domain': 'baochinhphu.vn', 'sour...                   7.0   \n",
       "4  [{'rank': 1, 'domain': 'fiinratings.vn', 'sour...                  11.0   \n",
       "\n",
       "   visrating_rank  \n",
       "0             2.0  \n",
       "1             1.0  \n",
       "2             4.0  \n",
       "3             2.0  \n",
       "4             2.0  "
      ]
     },
     "metadata": {},
     "output_type": "display_data"
    },
    {
     "name": "stdout",
     "output_type": "stream",
     "text": [
      "<class 'pandas.core.frame.DataFrame'>\n",
      "RangeIndex: 113 entries, 0 to 112\n",
      "Data columns (total 6 columns):\n",
      " #   Column                Non-Null Count  Dtype  \n",
      "---  ------                --------------  -----  \n",
      " 0   keyword               113 non-null    object \n",
      " 1   raw_data              113 non-null    object \n",
      " 2   aio_markdown          104 non-null    object \n",
      " 3   aio_references        104 non-null    object \n",
      " 4   aio_references_count  105 non-null    float64\n",
      " 5   visrating_rank        90 non-null     float64\n",
      "dtypes: float64(2), object(4)\n",
      "memory usage: 5.4+ KB\n",
      "None\n"
     ]
    }
   ],
   "source": [
    "## remerge df_aio with df on keyword, the number of rows should stay the same as df (8031 keywords)\n",
    "df_aio = df_aio.drop_duplicates('keyword')\n",
    "df_merged = pd.merge(df, df_aio[['keyword', 'aio_markdown', 'aio_references', 'aio_references_count', f'{brand_name}_rank']], on='keyword', how='left')\n",
    "display(df_merged.head())\n",
    "print(df_merged.info())\n",
    "\n",
    "## download to csv\n",
    "df_download = df_merged.drop(columns=['aio_markdown', 'raw_data'])\n",
    "# df_download = df_merged.drop(columns=['aio_markdown', 'type', 'se_domain', 'location_code', 'language_code','check_url','items','datetime','spell','refinement_chips','se_results_count','item_types'])\n",
    "\n",
    "# remove source and url from aio_references for csv export\n",
    "def simplify_refs(refs):\n",
    "\t# handle NaN (float), None, and non-iterable values safely\n",
    "\tif refs is None:\n",
    "\t\treturn None\n",
    "\t# pandas uses float('nan') for missing values\n",
    "\tif isinstance(refs, float) and pd.isna(refs):\n",
    "\t\treturn None\n",
    "\t# expected: list of dicts\n",
    "\tif isinstance(refs, list):\n",
    "\t\treturn [{'rank': ref.get('rank'), 'domain': ref.get('domain')} for ref in refs]\n",
    "\t# if a single dict is present, convert it to list form\n",
    "\tif isinstance(refs, dict):\n",
    "\t\treturn [{'rank': refs.get('rank'), 'domain': refs.get('domain')}]\n",
    "\t# fallback\n",
    "\treturn None\n",
    "\n",
    "df_download['aio_references'] = df_download['aio_references'].apply(simplify_refs)\n",
    "\n",
    "df_download.to_csv('keywords.csv', index=False)\n"
   ]
  },
  {
   "cell_type": "markdown",
   "id": "e353173d",
   "metadata": {},
   "source": [
    "# COMPETITOR ANALYSIS\n",
    "- it includes:\n",
    "  - most cited sources\n",
    "  - the relative average cited rank of each most cited source\n",
    "  - cited probability of brand\n",
    "  - average cited ranking position of brand"
   ]
  },
  {
   "cell_type": "code",
   "execution_count": 59,
   "id": "d9201bde",
   "metadata": {},
   "outputs": [
    {
     "data": {
      "text/html": [
       "<div>\n",
       "<style scoped>\n",
       "    .dataframe tbody tr th:only-of-type {\n",
       "        vertical-align: middle;\n",
       "    }\n",
       "\n",
       "    .dataframe tbody tr th {\n",
       "        vertical-align: top;\n",
       "    }\n",
       "\n",
       "    .dataframe thead th {\n",
       "        text-align: right;\n",
       "    }\n",
       "</style>\n",
       "<table border=\"1\" class=\"dataframe\">\n",
       "  <thead>\n",
       "    <tr style=\"text-align: right;\">\n",
       "      <th></th>\n",
       "      <th>aio_references</th>\n",
       "      <th>domain</th>\n",
       "      <th>name</th>\n",
       "      <th>rank</th>\n",
       "    </tr>\n",
       "  </thead>\n",
       "  <tbody>\n",
       "    <tr>\n",
       "      <th>0</th>\n",
       "      <td>{'rank': 1, 'domain': 'fiinratings.vn', 'sourc...</td>\n",
       "      <td>fiinratings.vn</td>\n",
       "      <td>FiinRatings</td>\n",
       "      <td>1.0</td>\n",
       "    </tr>\n",
       "    <tr>\n",
       "      <th>1</th>\n",
       "      <td>{'rank': 2, 'domain': 'visrating.com', 'source...</td>\n",
       "      <td>visrating.com</td>\n",
       "      <td>VIS Rating</td>\n",
       "      <td>2.0</td>\n",
       "    </tr>\n",
       "    <tr>\n",
       "      <th>2</th>\n",
       "      <td>{'rank': 3, 'domain': 'visrating.com', 'source...</td>\n",
       "      <td>visrating.com</td>\n",
       "      <td>VIS Rating</td>\n",
       "      <td>3.0</td>\n",
       "    </tr>\n",
       "    <tr>\n",
       "      <th>3</th>\n",
       "      <td>{'rank': 4, 'domain': 'saigonratings.com', 'so...</td>\n",
       "      <td>saigonratings.com</td>\n",
       "      <td>Saigon Ratings</td>\n",
       "      <td>4.0</td>\n",
       "    </tr>\n",
       "    <tr>\n",
       "      <th>4</th>\n",
       "      <td>{'rank': 5, 'domain': 'visrating.com', 'source...</td>\n",
       "      <td>visrating.com</td>\n",
       "      <td>VIS Rating</td>\n",
       "      <td>5.0</td>\n",
       "    </tr>\n",
       "    <tr>\n",
       "      <th>5</th>\n",
       "      <td>{'rank': 6, 'domain': 'saigonratings.com', 'so...</td>\n",
       "      <td>saigonratings.com</td>\n",
       "      <td>Saigon Ratings</td>\n",
       "      <td>6.0</td>\n",
       "    </tr>\n",
       "    <tr>\n",
       "      <th>6</th>\n",
       "      <td>{'rank': 7, 'domain': 'visrating.com', 'source...</td>\n",
       "      <td>visrating.com</td>\n",
       "      <td>VIS Rating</td>\n",
       "      <td>7.0</td>\n",
       "    </tr>\n",
       "    <tr>\n",
       "      <th>7</th>\n",
       "      <td>{'rank': 8, 'domain': 'www.youtube.com', 'sour...</td>\n",
       "      <td>www.youtube.com</td>\n",
       "      <td>YouTube ·</td>\n",
       "      <td>8.0</td>\n",
       "    </tr>\n",
       "    <tr>\n",
       "      <th>8</th>\n",
       "      <td>{'rank': 1, 'domain': 'visrating.com', 'source...</td>\n",
       "      <td>visrating.com</td>\n",
       "      <td>VIS Rating</td>\n",
       "      <td>1.0</td>\n",
       "    </tr>\n",
       "    <tr>\n",
       "      <th>9</th>\n",
       "      <td>{'rank': 2, 'domain': 'tapchicongthuong.vn', '...</td>\n",
       "      <td>tapchicongthuong.vn</td>\n",
       "      <td>Tạp chí Công Thương</td>\n",
       "      <td>2.0</td>\n",
       "    </tr>\n",
       "  </tbody>\n",
       "</table>\n",
       "</div>"
      ],
      "text/plain": [
       "                                      aio_references               domain  \\\n",
       "0  {'rank': 1, 'domain': 'fiinratings.vn', 'sourc...       fiinratings.vn   \n",
       "1  {'rank': 2, 'domain': 'visrating.com', 'source...        visrating.com   \n",
       "2  {'rank': 3, 'domain': 'visrating.com', 'source...        visrating.com   \n",
       "3  {'rank': 4, 'domain': 'saigonratings.com', 'so...    saigonratings.com   \n",
       "4  {'rank': 5, 'domain': 'visrating.com', 'source...        visrating.com   \n",
       "5  {'rank': 6, 'domain': 'saigonratings.com', 'so...    saigonratings.com   \n",
       "6  {'rank': 7, 'domain': 'visrating.com', 'source...        visrating.com   \n",
       "7  {'rank': 8, 'domain': 'www.youtube.com', 'sour...      www.youtube.com   \n",
       "8  {'rank': 1, 'domain': 'visrating.com', 'source...        visrating.com   \n",
       "9  {'rank': 2, 'domain': 'tapchicongthuong.vn', '...  tapchicongthuong.vn   \n",
       "\n",
       "                  name  rank  \n",
       "0          FiinRatings   1.0  \n",
       "1           VIS Rating   2.0  \n",
       "2           VIS Rating   3.0  \n",
       "3       Saigon Ratings   4.0  \n",
       "4           VIS Rating   5.0  \n",
       "5       Saigon Ratings   6.0  \n",
       "6           VIS Rating   7.0  \n",
       "7            YouTube ·   8.0  \n",
       "8           VIS Rating   1.0  \n",
       "9  Tạp chí Công Thương   2.0  "
      ]
     },
     "metadata": {},
     "output_type": "display_data"
    },
    {
     "name": "stdout",
     "output_type": "stream",
     "text": [
      "<class 'pandas.core.frame.DataFrame'>\n",
      "RangeIndex: 765 entries, 0 to 764\n",
      "Data columns (total 4 columns):\n",
      " #   Column          Non-Null Count  Dtype  \n",
      "---  ------          --------------  -----  \n",
      " 0   aio_references  764 non-null    object \n",
      " 1   domain          764 non-null    object \n",
      " 2   name            764 non-null    object \n",
      " 3   rank            764 non-null    float64\n",
      "dtypes: float64(1), object(3)\n",
      "memory usage: 24.0+ KB\n",
      "None\n"
     ]
    }
   ],
   "source": [
    "## get all the cited names\n",
    "\n",
    "extracted_ref = df_aio['aio_references'].explode().reset_index(drop=True)\n",
    "extracted_ref = pd.DataFrame(extracted_ref)\n",
    "extracted_ref['domain'] = extracted_ref['aio_references'].apply(lambda x: x['domain'] if x else None)\n",
    "extracted_ref['name'] = extracted_ref['aio_references'].apply(lambda x: x['source'] if x else None)\n",
    "extracted_ref['rank'] = extracted_ref['aio_references'].apply(lambda x: x['rank'] if x else None)\n",
    "\n",
    "\n",
    "display(extracted_ref.head(10))\n",
    "print(extracted_ref.info())\n",
    "\n",
    "## download raw citation data\n",
    "# extracted_ref.to_csv('vna_citations_raw.csv', index=False)"
   ]
  },
  {
   "cell_type": "markdown",
   "id": "231a877d",
   "metadata": {},
   "source": [
    "## turn into table of unique competitors\n",
    "## How?\n",
    "- export the brand names into a list, drop duplicates\n",
    "- create a dataframe from the list\n",
    "- create function that iterates through each brand of the new dataset and the old one\n",
    "\n",
    "for each brand: \n",
    "    - create [domain] variable empty\n",
    "    - create [rank] variable empty\n",
    "    - iterates:\n",
    "        - if brand name matches the 'source' in the old dataset:\n",
    "            - append the 'domain' to [domain] variable\n",
    "            - append the 'rank' to [rank] variable\n",
    "\n",
    "then:\n",
    "    - count number of cited times for each brand\n",
    "    - get the unique domains of each brand\n",
    "    - get the average rank of each brand"
   ]
  },
  {
   "cell_type": "code",
   "execution_count": 60,
   "id": "7b756fd8",
   "metadata": {},
   "outputs": [
    {
     "data": {
      "text/html": [
       "<div>\n",
       "<style scoped>\n",
       "    .dataframe tbody tr th:only-of-type {\n",
       "        vertical-align: middle;\n",
       "    }\n",
       "\n",
       "    .dataframe tbody tr th {\n",
       "        vertical-align: top;\n",
       "    }\n",
       "\n",
       "    .dataframe thead th {\n",
       "        text-align: right;\n",
       "    }\n",
       "</style>\n",
       "<table border=\"1\" class=\"dataframe\">\n",
       "  <thead>\n",
       "    <tr style=\"text-align: right;\">\n",
       "      <th></th>\n",
       "      <th>brand</th>\n",
       "      <th>cited_count</th>\n",
       "      <th>unique_domains</th>\n",
       "      <th>average_rank</th>\n",
       "      <th>cited_probability</th>\n",
       "      <th>cited_in_prompts</th>\n",
       "      <th>prompt_cited_rate</th>\n",
       "    </tr>\n",
       "  </thead>\n",
       "  <tbody>\n",
       "    <tr>\n",
       "      <th>0</th>\n",
       "      <td>VIS Rating</td>\n",
       "      <td>315</td>\n",
       "      <td>[visrating.com]</td>\n",
       "      <td>4.768254</td>\n",
       "      <td>0.411765</td>\n",
       "      <td>90</td>\n",
       "      <td>0.857143</td>\n",
       "    </tr>\n",
       "    <tr>\n",
       "      <th>1</th>\n",
       "      <td>Saigon Ratings</td>\n",
       "      <td>98</td>\n",
       "      <td>[saigonratings.com]</td>\n",
       "      <td>5.377551</td>\n",
       "      <td>0.128105</td>\n",
       "      <td>68</td>\n",
       "      <td>0.647619</td>\n",
       "    </tr>\n",
       "    <tr>\n",
       "      <th>2</th>\n",
       "      <td>FiinRatings</td>\n",
       "      <td>45</td>\n",
       "      <td>[fiinratings.vn]</td>\n",
       "      <td>4.488889</td>\n",
       "      <td>0.058824</td>\n",
       "      <td>37</td>\n",
       "      <td>0.352381</td>\n",
       "    </tr>\n",
       "    <tr>\n",
       "      <th>3</th>\n",
       "      <td>Tạp chí Tài chính</td>\n",
       "      <td>26</td>\n",
       "      <td>[tapchitaichinh.vn]</td>\n",
       "      <td>4.538462</td>\n",
       "      <td>0.033987</td>\n",
       "      <td>22</td>\n",
       "      <td>0.209524</td>\n",
       "    </tr>\n",
       "    <tr>\n",
       "      <th>4</th>\n",
       "      <td>S&amp;I Ratings</td>\n",
       "      <td>22</td>\n",
       "      <td>[sniratings.com.vn]</td>\n",
       "      <td>6.545455</td>\n",
       "      <td>0.028758</td>\n",
       "      <td>18</td>\n",
       "      <td>0.171429</td>\n",
       "    </tr>\n",
       "    <tr>\n",
       "      <th>5</th>\n",
       "      <td>VnEconomy</td>\n",
       "      <td>15</td>\n",
       "      <td>[vneconomy.vn]</td>\n",
       "      <td>2.933333</td>\n",
       "      <td>0.019608</td>\n",
       "      <td>13</td>\n",
       "      <td>0.123810</td>\n",
       "    </tr>\n",
       "    <tr>\n",
       "      <th>6</th>\n",
       "      <td>baochinhphu.vn</td>\n",
       "      <td>13</td>\n",
       "      <td>[baochinhphu.vn]</td>\n",
       "      <td>4.230769</td>\n",
       "      <td>0.016993</td>\n",
       "      <td>10</td>\n",
       "      <td>0.095238</td>\n",
       "    </tr>\n",
       "    <tr>\n",
       "      <th>7</th>\n",
       "      <td>Wikipedia</td>\n",
       "      <td>13</td>\n",
       "      <td>[vi.wikipedia.org]</td>\n",
       "      <td>4.153846</td>\n",
       "      <td>0.016993</td>\n",
       "      <td>13</td>\n",
       "      <td>0.123810</td>\n",
       "    </tr>\n",
       "    <tr>\n",
       "      <th>8</th>\n",
       "      <td>Thư Viện Pháp Luật</td>\n",
       "      <td>11</td>\n",
       "      <td>[thuvienphapluat.vn]</td>\n",
       "      <td>6.000000</td>\n",
       "      <td>0.014379</td>\n",
       "      <td>10</td>\n",
       "      <td>0.095238</td>\n",
       "    </tr>\n",
       "    <tr>\n",
       "      <th>9</th>\n",
       "      <td>investopedia.com</td>\n",
       "      <td>11</td>\n",
       "      <td>[translate.google.com]</td>\n",
       "      <td>5.363636</td>\n",
       "      <td>0.014379</td>\n",
       "      <td>8</td>\n",
       "      <td>0.076190</td>\n",
       "    </tr>\n",
       "    <tr>\n",
       "      <th>10</th>\n",
       "      <td>Tạp chí Xây dựng</td>\n",
       "      <td>10</td>\n",
       "      <td>[tapchixaydung.vn]</td>\n",
       "      <td>2.600000</td>\n",
       "      <td>0.013072</td>\n",
       "      <td>10</td>\n",
       "      <td>0.095238</td>\n",
       "    </tr>\n",
       "    <tr>\n",
       "      <th>11</th>\n",
       "      <td>ASL LAW</td>\n",
       "      <td>10</td>\n",
       "      <td>[aslgate.com]</td>\n",
       "      <td>4.400000</td>\n",
       "      <td>0.013072</td>\n",
       "      <td>10</td>\n",
       "      <td>0.095238</td>\n",
       "    </tr>\n",
       "    <tr>\n",
       "      <th>12</th>\n",
       "      <td>capital.com</td>\n",
       "      <td>8</td>\n",
       "      <td>[translate.google.com]</td>\n",
       "      <td>5.750000</td>\n",
       "      <td>0.010458</td>\n",
       "      <td>8</td>\n",
       "      <td>0.076190</td>\n",
       "    </tr>\n",
       "    <tr>\n",
       "      <th>13</th>\n",
       "      <td>Báo Chính phủ</td>\n",
       "      <td>8</td>\n",
       "      <td>[baochinhphu.vn]</td>\n",
       "      <td>2.875000</td>\n",
       "      <td>0.010458</td>\n",
       "      <td>7</td>\n",
       "      <td>0.066667</td>\n",
       "    </tr>\n",
       "    <tr>\n",
       "      <th>14</th>\n",
       "      <td>en.wikipedia.org</td>\n",
       "      <td>8</td>\n",
       "      <td>[translate.google.com]</td>\n",
       "      <td>6.375000</td>\n",
       "      <td>0.010458</td>\n",
       "      <td>8</td>\n",
       "      <td>0.076190</td>\n",
       "    </tr>\n",
       "    <tr>\n",
       "      <th>15</th>\n",
       "      <td>ACB</td>\n",
       "      <td>7</td>\n",
       "      <td>[acb.com.vn]</td>\n",
       "      <td>2.571429</td>\n",
       "      <td>0.009150</td>\n",
       "      <td>3</td>\n",
       "      <td>0.028571</td>\n",
       "    </tr>\n",
       "    <tr>\n",
       "      <th>16</th>\n",
       "      <td>Tạp chí Thị trường Tài chính Tiền tệ</td>\n",
       "      <td>7</td>\n",
       "      <td>[thitruongtaichinhtiente.vn]</td>\n",
       "      <td>3.142857</td>\n",
       "      <td>0.009150</td>\n",
       "      <td>7</td>\n",
       "      <td>0.066667</td>\n",
       "    </tr>\n",
       "    <tr>\n",
       "      <th>17</th>\n",
       "      <td>VietinBank</td>\n",
       "      <td>6</td>\n",
       "      <td>[investor.vietinbank.vn]</td>\n",
       "      <td>4.000000</td>\n",
       "      <td>0.007843</td>\n",
       "      <td>5</td>\n",
       "      <td>0.047619</td>\n",
       "    </tr>\n",
       "    <tr>\n",
       "      <th>18</th>\n",
       "      <td>thitruongtaichinhtiente.vn</td>\n",
       "      <td>6</td>\n",
       "      <td>[thitruongtaichinhtiente.vn]</td>\n",
       "      <td>3.500000</td>\n",
       "      <td>0.007843</td>\n",
       "      <td>5</td>\n",
       "      <td>0.047619</td>\n",
       "    </tr>\n",
       "    <tr>\n",
       "      <th>19</th>\n",
       "      <td>VNSC by Finhay</td>\n",
       "      <td>5</td>\n",
       "      <td>[www.vnsc.vn]</td>\n",
       "      <td>4.800000</td>\n",
       "      <td>0.006536</td>\n",
       "      <td>5</td>\n",
       "      <td>0.047619</td>\n",
       "    </tr>\n",
       "  </tbody>\n",
       "</table>\n",
       "</div>"
      ],
      "text/plain": [
       "                                   brand  cited_count  \\\n",
       "0                             VIS Rating          315   \n",
       "1                         Saigon Ratings           98   \n",
       "2                            FiinRatings           45   \n",
       "3                      Tạp chí Tài chính           26   \n",
       "4                            S&I Ratings           22   \n",
       "5                              VnEconomy           15   \n",
       "6                         baochinhphu.vn           13   \n",
       "7                              Wikipedia           13   \n",
       "8                     Thư Viện Pháp Luật           11   \n",
       "9                       investopedia.com           11   \n",
       "10                      Tạp chí Xây dựng           10   \n",
       "11                               ASL LAW           10   \n",
       "12                           capital.com            8   \n",
       "13                         Báo Chính phủ            8   \n",
       "14                      en.wikipedia.org            8   \n",
       "15                                   ACB            7   \n",
       "16  Tạp chí Thị trường Tài chính Tiền tệ            7   \n",
       "17                            VietinBank            6   \n",
       "18            thitruongtaichinhtiente.vn            6   \n",
       "19                        VNSC by Finhay            5   \n",
       "\n",
       "                  unique_domains  average_rank  cited_probability  \\\n",
       "0                [visrating.com]      4.768254           0.411765   \n",
       "1            [saigonratings.com]      5.377551           0.128105   \n",
       "2               [fiinratings.vn]      4.488889           0.058824   \n",
       "3            [tapchitaichinh.vn]      4.538462           0.033987   \n",
       "4            [sniratings.com.vn]      6.545455           0.028758   \n",
       "5                 [vneconomy.vn]      2.933333           0.019608   \n",
       "6               [baochinhphu.vn]      4.230769           0.016993   \n",
       "7             [vi.wikipedia.org]      4.153846           0.016993   \n",
       "8           [thuvienphapluat.vn]      6.000000           0.014379   \n",
       "9         [translate.google.com]      5.363636           0.014379   \n",
       "10            [tapchixaydung.vn]      2.600000           0.013072   \n",
       "11                 [aslgate.com]      4.400000           0.013072   \n",
       "12        [translate.google.com]      5.750000           0.010458   \n",
       "13              [baochinhphu.vn]      2.875000           0.010458   \n",
       "14        [translate.google.com]      6.375000           0.010458   \n",
       "15                  [acb.com.vn]      2.571429           0.009150   \n",
       "16  [thitruongtaichinhtiente.vn]      3.142857           0.009150   \n",
       "17      [investor.vietinbank.vn]      4.000000           0.007843   \n",
       "18  [thitruongtaichinhtiente.vn]      3.500000           0.007843   \n",
       "19                 [www.vnsc.vn]      4.800000           0.006536   \n",
       "\n",
       "    cited_in_prompts  prompt_cited_rate  \n",
       "0                 90           0.857143  \n",
       "1                 68           0.647619  \n",
       "2                 37           0.352381  \n",
       "3                 22           0.209524  \n",
       "4                 18           0.171429  \n",
       "5                 13           0.123810  \n",
       "6                 10           0.095238  \n",
       "7                 13           0.123810  \n",
       "8                 10           0.095238  \n",
       "9                  8           0.076190  \n",
       "10                10           0.095238  \n",
       "11                10           0.095238  \n",
       "12                 8           0.076190  \n",
       "13                 7           0.066667  \n",
       "14                 8           0.076190  \n",
       "15                 3           0.028571  \n",
       "16                 7           0.066667  \n",
       "17                 5           0.047619  \n",
       "18                 5           0.047619  \n",
       "19                 5           0.047619  "
      ]
     },
     "metadata": {},
     "output_type": "display_data"
    }
   ],
   "source": [
    "ref_brands = extracted_ref['name'].drop_duplicates().dropna().reset_index(drop=True)\n",
    "\n",
    "ref_brands = ref_brands.to_list()\n",
    "ref_brands = list(filter(None, ref_brands))\n",
    "\n",
    "# print(ref_brands)\n",
    "\n",
    "## create dataframe\n",
    "ref_brands = pd.DataFrame(ref_brands)\n",
    "ref_brands.columns = ['brand']\n",
    "\n",
    "## write function\n",
    "brand_list = []\n",
    "for brand in ref_brands['brand']:\n",
    "    brand_dict = {}\n",
    "    brand_dict['brand'] = brand\n",
    "    brand_dict['cited_count'] = extracted_ref[extracted_ref['name'] == brand].shape[0]\n",
    "    brand_dict['unique_domains'] = extracted_ref[extracted_ref['name'] == brand]['domain'].unique().tolist()\n",
    "    brand_dict['average_rank'] = extracted_ref[extracted_ref['name'] == brand]['rank'].mean()\n",
    "    brand_dict['cited_probability'] = brand_dict['cited_count'] / extracted_ref.shape[0]\n",
    "    ## create column for the number of prompts where the brand is cited\n",
    "    brand_dict['cited_in_prompts'] = df_aio[df_aio['aio_references'].apply(lambda refs: any(ref and ref.get('source') == brand for ref in refs) if refs else False)].shape[0]\n",
    "    brand_dict['prompt_cited_rate'] = brand_dict['cited_in_prompts'] / df_aio.shape[0]\n",
    "    brand_list.append(brand_dict)\n",
    "brand_list_df = pd.DataFrame(brand_list).sort_values(by='cited_count', ascending=False).reset_index(drop=True)\n",
    "\n",
    "display(brand_list_df.head(20))\n",
    "\n",
    "\n",
    "## download file\n",
    "brand_list_df.to_csv('competitor.csv', index=False)\n",
    "# display(ref_brands.head())\n",
    "# print(ref_brands.info())"
   ]
  },
  {
   "cell_type": "code",
   "execution_count": 61,
   "id": "0b33e36f",
   "metadata": {},
   "outputs": [
    {
     "data": {
      "application/vnd.plotly.v1+json": {
       "config": {
        "plotlyServerURL": "https://plot.ly"
       },
       "data": [
        {
         "domain": {
          "x": [
           0,
           1
          ],
          "y": [
           0,
           1
          ]
         },
         "hole": 0.3,
         "hovertemplate": "brand=%{label}<br>cited_probability=%{value}<extra></extra>",
         "labels": [
          "VIS Rating",
          "Saigon Ratings",
          "FiinRatings",
          "Tạp chí Tài chính",
          "S&I Ratings",
          "VnEconomy",
          "baochinhphu.vn",
          "Wikipedia",
          "Thư Viện Pháp Luật",
          "investopedia.com"
         ],
         "legendgroup": "",
         "name": "",
         "showlegend": true,
         "type": "pie",
         "values": {
          "bdata": "WlpaWlpa2j8Qu2UQu2XAPx4eHh4eHq4/EbxmEbxmoT8dyHIdyHKdPxQUFBQUFJQ/EbxmEbxmkT8RvGYRvGaRPx3Ich3Ico0/HchyHchyjT8=",
          "dtype": "f8"
         }
        }
       ],
       "layout": {
        "legend": {
         "tracegroupgap": 0
        },
        "template": {
         "data": {
          "bar": [
           {
            "error_x": {
             "color": "#2a3f5f"
            },
            "error_y": {
             "color": "#2a3f5f"
            },
            "marker": {
             "line": {
              "color": "#E5ECF6",
              "width": 0.5
             },
             "pattern": {
              "fillmode": "overlay",
              "size": 10,
              "solidity": 0.2
             }
            },
            "type": "bar"
           }
          ],
          "barpolar": [
           {
            "marker": {
             "line": {
              "color": "#E5ECF6",
              "width": 0.5
             },
             "pattern": {
              "fillmode": "overlay",
              "size": 10,
              "solidity": 0.2
             }
            },
            "type": "barpolar"
           }
          ],
          "carpet": [
           {
            "aaxis": {
             "endlinecolor": "#2a3f5f",
             "gridcolor": "white",
             "linecolor": "white",
             "minorgridcolor": "white",
             "startlinecolor": "#2a3f5f"
            },
            "baxis": {
             "endlinecolor": "#2a3f5f",
             "gridcolor": "white",
             "linecolor": "white",
             "minorgridcolor": "white",
             "startlinecolor": "#2a3f5f"
            },
            "type": "carpet"
           }
          ],
          "choropleth": [
           {
            "colorbar": {
             "outlinewidth": 0,
             "ticks": ""
            },
            "type": "choropleth"
           }
          ],
          "contour": [
           {
            "colorbar": {
             "outlinewidth": 0,
             "ticks": ""
            },
            "colorscale": [
             [
              0,
              "#0d0887"
             ],
             [
              0.1111111111111111,
              "#46039f"
             ],
             [
              0.2222222222222222,
              "#7201a8"
             ],
             [
              0.3333333333333333,
              "#9c179e"
             ],
             [
              0.4444444444444444,
              "#bd3786"
             ],
             [
              0.5555555555555556,
              "#d8576b"
             ],
             [
              0.6666666666666666,
              "#ed7953"
             ],
             [
              0.7777777777777778,
              "#fb9f3a"
             ],
             [
              0.8888888888888888,
              "#fdca26"
             ],
             [
              1,
              "#f0f921"
             ]
            ],
            "type": "contour"
           }
          ],
          "contourcarpet": [
           {
            "colorbar": {
             "outlinewidth": 0,
             "ticks": ""
            },
            "type": "contourcarpet"
           }
          ],
          "heatmap": [
           {
            "colorbar": {
             "outlinewidth": 0,
             "ticks": ""
            },
            "colorscale": [
             [
              0,
              "#0d0887"
             ],
             [
              0.1111111111111111,
              "#46039f"
             ],
             [
              0.2222222222222222,
              "#7201a8"
             ],
             [
              0.3333333333333333,
              "#9c179e"
             ],
             [
              0.4444444444444444,
              "#bd3786"
             ],
             [
              0.5555555555555556,
              "#d8576b"
             ],
             [
              0.6666666666666666,
              "#ed7953"
             ],
             [
              0.7777777777777778,
              "#fb9f3a"
             ],
             [
              0.8888888888888888,
              "#fdca26"
             ],
             [
              1,
              "#f0f921"
             ]
            ],
            "type": "heatmap"
           }
          ],
          "histogram": [
           {
            "marker": {
             "pattern": {
              "fillmode": "overlay",
              "size": 10,
              "solidity": 0.2
             }
            },
            "type": "histogram"
           }
          ],
          "histogram2d": [
           {
            "colorbar": {
             "outlinewidth": 0,
             "ticks": ""
            },
            "colorscale": [
             [
              0,
              "#0d0887"
             ],
             [
              0.1111111111111111,
              "#46039f"
             ],
             [
              0.2222222222222222,
              "#7201a8"
             ],
             [
              0.3333333333333333,
              "#9c179e"
             ],
             [
              0.4444444444444444,
              "#bd3786"
             ],
             [
              0.5555555555555556,
              "#d8576b"
             ],
             [
              0.6666666666666666,
              "#ed7953"
             ],
             [
              0.7777777777777778,
              "#fb9f3a"
             ],
             [
              0.8888888888888888,
              "#fdca26"
             ],
             [
              1,
              "#f0f921"
             ]
            ],
            "type": "histogram2d"
           }
          ],
          "histogram2dcontour": [
           {
            "colorbar": {
             "outlinewidth": 0,
             "ticks": ""
            },
            "colorscale": [
             [
              0,
              "#0d0887"
             ],
             [
              0.1111111111111111,
              "#46039f"
             ],
             [
              0.2222222222222222,
              "#7201a8"
             ],
             [
              0.3333333333333333,
              "#9c179e"
             ],
             [
              0.4444444444444444,
              "#bd3786"
             ],
             [
              0.5555555555555556,
              "#d8576b"
             ],
             [
              0.6666666666666666,
              "#ed7953"
             ],
             [
              0.7777777777777778,
              "#fb9f3a"
             ],
             [
              0.8888888888888888,
              "#fdca26"
             ],
             [
              1,
              "#f0f921"
             ]
            ],
            "type": "histogram2dcontour"
           }
          ],
          "mesh3d": [
           {
            "colorbar": {
             "outlinewidth": 0,
             "ticks": ""
            },
            "type": "mesh3d"
           }
          ],
          "parcoords": [
           {
            "line": {
             "colorbar": {
              "outlinewidth": 0,
              "ticks": ""
             }
            },
            "type": "parcoords"
           }
          ],
          "pie": [
           {
            "automargin": true,
            "type": "pie"
           }
          ],
          "scatter": [
           {
            "fillpattern": {
             "fillmode": "overlay",
             "size": 10,
             "solidity": 0.2
            },
            "type": "scatter"
           }
          ],
          "scatter3d": [
           {
            "line": {
             "colorbar": {
              "outlinewidth": 0,
              "ticks": ""
             }
            },
            "marker": {
             "colorbar": {
              "outlinewidth": 0,
              "ticks": ""
             }
            },
            "type": "scatter3d"
           }
          ],
          "scattercarpet": [
           {
            "marker": {
             "colorbar": {
              "outlinewidth": 0,
              "ticks": ""
             }
            },
            "type": "scattercarpet"
           }
          ],
          "scattergeo": [
           {
            "marker": {
             "colorbar": {
              "outlinewidth": 0,
              "ticks": ""
             }
            },
            "type": "scattergeo"
           }
          ],
          "scattergl": [
           {
            "marker": {
             "colorbar": {
              "outlinewidth": 0,
              "ticks": ""
             }
            },
            "type": "scattergl"
           }
          ],
          "scattermap": [
           {
            "marker": {
             "colorbar": {
              "outlinewidth": 0,
              "ticks": ""
             }
            },
            "type": "scattermap"
           }
          ],
          "scattermapbox": [
           {
            "marker": {
             "colorbar": {
              "outlinewidth": 0,
              "ticks": ""
             }
            },
            "type": "scattermapbox"
           }
          ],
          "scatterpolar": [
           {
            "marker": {
             "colorbar": {
              "outlinewidth": 0,
              "ticks": ""
             }
            },
            "type": "scatterpolar"
           }
          ],
          "scatterpolargl": [
           {
            "marker": {
             "colorbar": {
              "outlinewidth": 0,
              "ticks": ""
             }
            },
            "type": "scatterpolargl"
           }
          ],
          "scatterternary": [
           {
            "marker": {
             "colorbar": {
              "outlinewidth": 0,
              "ticks": ""
             }
            },
            "type": "scatterternary"
           }
          ],
          "surface": [
           {
            "colorbar": {
             "outlinewidth": 0,
             "ticks": ""
            },
            "colorscale": [
             [
              0,
              "#0d0887"
             ],
             [
              0.1111111111111111,
              "#46039f"
             ],
             [
              0.2222222222222222,
              "#7201a8"
             ],
             [
              0.3333333333333333,
              "#9c179e"
             ],
             [
              0.4444444444444444,
              "#bd3786"
             ],
             [
              0.5555555555555556,
              "#d8576b"
             ],
             [
              0.6666666666666666,
              "#ed7953"
             ],
             [
              0.7777777777777778,
              "#fb9f3a"
             ],
             [
              0.8888888888888888,
              "#fdca26"
             ],
             [
              1,
              "#f0f921"
             ]
            ],
            "type": "surface"
           }
          ],
          "table": [
           {
            "cells": {
             "fill": {
              "color": "#EBF0F8"
             },
             "line": {
              "color": "white"
             }
            },
            "header": {
             "fill": {
              "color": "#C8D4E3"
             },
             "line": {
              "color": "white"
             }
            },
            "type": "table"
           }
          ]
         },
         "layout": {
          "annotationdefaults": {
           "arrowcolor": "#2a3f5f",
           "arrowhead": 0,
           "arrowwidth": 1
          },
          "autotypenumbers": "strict",
          "coloraxis": {
           "colorbar": {
            "outlinewidth": 0,
            "ticks": ""
           }
          },
          "colorscale": {
           "diverging": [
            [
             0,
             "#8e0152"
            ],
            [
             0.1,
             "#c51b7d"
            ],
            [
             0.2,
             "#de77ae"
            ],
            [
             0.3,
             "#f1b6da"
            ],
            [
             0.4,
             "#fde0ef"
            ],
            [
             0.5,
             "#f7f7f7"
            ],
            [
             0.6,
             "#e6f5d0"
            ],
            [
             0.7,
             "#b8e186"
            ],
            [
             0.8,
             "#7fbc41"
            ],
            [
             0.9,
             "#4d9221"
            ],
            [
             1,
             "#276419"
            ]
           ],
           "sequential": [
            [
             0,
             "#0d0887"
            ],
            [
             0.1111111111111111,
             "#46039f"
            ],
            [
             0.2222222222222222,
             "#7201a8"
            ],
            [
             0.3333333333333333,
             "#9c179e"
            ],
            [
             0.4444444444444444,
             "#bd3786"
            ],
            [
             0.5555555555555556,
             "#d8576b"
            ],
            [
             0.6666666666666666,
             "#ed7953"
            ],
            [
             0.7777777777777778,
             "#fb9f3a"
            ],
            [
             0.8888888888888888,
             "#fdca26"
            ],
            [
             1,
             "#f0f921"
            ]
           ],
           "sequentialminus": [
            [
             0,
             "#0d0887"
            ],
            [
             0.1111111111111111,
             "#46039f"
            ],
            [
             0.2222222222222222,
             "#7201a8"
            ],
            [
             0.3333333333333333,
             "#9c179e"
            ],
            [
             0.4444444444444444,
             "#bd3786"
            ],
            [
             0.5555555555555556,
             "#d8576b"
            ],
            [
             0.6666666666666666,
             "#ed7953"
            ],
            [
             0.7777777777777778,
             "#fb9f3a"
            ],
            [
             0.8888888888888888,
             "#fdca26"
            ],
            [
             1,
             "#f0f921"
            ]
           ]
          },
          "colorway": [
           "#636efa",
           "#EF553B",
           "#00cc96",
           "#ab63fa",
           "#FFA15A",
           "#19d3f3",
           "#FF6692",
           "#B6E880",
           "#FF97FF",
           "#FECB52"
          ],
          "font": {
           "color": "#2a3f5f"
          },
          "geo": {
           "bgcolor": "white",
           "lakecolor": "white",
           "landcolor": "#E5ECF6",
           "showlakes": true,
           "showland": true,
           "subunitcolor": "white"
          },
          "hoverlabel": {
           "align": "left"
          },
          "hovermode": "closest",
          "mapbox": {
           "style": "light"
          },
          "paper_bgcolor": "white",
          "plot_bgcolor": "#E5ECF6",
          "polar": {
           "angularaxis": {
            "gridcolor": "white",
            "linecolor": "white",
            "ticks": ""
           },
           "bgcolor": "#E5ECF6",
           "radialaxis": {
            "gridcolor": "white",
            "linecolor": "white",
            "ticks": ""
           }
          },
          "scene": {
           "xaxis": {
            "backgroundcolor": "#E5ECF6",
            "gridcolor": "white",
            "gridwidth": 2,
            "linecolor": "white",
            "showbackground": true,
            "ticks": "",
            "zerolinecolor": "white"
           },
           "yaxis": {
            "backgroundcolor": "#E5ECF6",
            "gridcolor": "white",
            "gridwidth": 2,
            "linecolor": "white",
            "showbackground": true,
            "ticks": "",
            "zerolinecolor": "white"
           },
           "zaxis": {
            "backgroundcolor": "#E5ECF6",
            "gridcolor": "white",
            "gridwidth": 2,
            "linecolor": "white",
            "showbackground": true,
            "ticks": "",
            "zerolinecolor": "white"
           }
          },
          "shapedefaults": {
           "line": {
            "color": "#2a3f5f"
           }
          },
          "ternary": {
           "aaxis": {
            "gridcolor": "white",
            "linecolor": "white",
            "ticks": ""
           },
           "baxis": {
            "gridcolor": "white",
            "linecolor": "white",
            "ticks": ""
           },
           "bgcolor": "#E5ECF6",
           "caxis": {
            "gridcolor": "white",
            "linecolor": "white",
            "ticks": ""
           }
          },
          "title": {
           "x": 0.05
          },
          "xaxis": {
           "automargin": true,
           "gridcolor": "white",
           "linecolor": "white",
           "ticks": "",
           "title": {
            "standoff": 15
           },
           "zerolinecolor": "white",
           "zerolinewidth": 2
          },
          "yaxis": {
           "automargin": true,
           "gridcolor": "white",
           "linecolor": "white",
           "ticks": "",
           "title": {
            "standoff": 15
           },
           "zerolinecolor": "white",
           "zerolinewidth": 2
          }
         }
        },
        "title": {
         "text": "Top 10 Cited Brands Probability Share"
        }
       }
      }
     },
     "metadata": {},
     "output_type": "display_data"
    }
   ],
   "source": [
    "## create interactive piechart for brand cited probability shares, only taking the top 10 brands\n",
    "import plotly.express as px\n",
    "top_10_brands = brand_list_df.head(10)\n",
    "fig = px.pie(top_10_brands, values='cited_probability', names='brand', title='Top 10 Cited Brands Probability Share', hole=0.3)\n",
    "fig.show()\n"
   ]
  },
  {
   "cell_type": "code",
   "execution_count": 62,
   "id": "87da9983",
   "metadata": {},
   "outputs": [
    {
     "data": {
      "application/vnd.plotly.v1+json": {
       "config": {
        "plotlyServerURL": "https://plot.ly"
       },
       "data": [
        {
         "hovertemplate": "brand=%{x}<br>cited_count=%{text}<extra></extra>",
         "legendgroup": "",
         "marker": {
          "color": "#636efa",
          "pattern": {
           "shape": ""
          }
         },
         "name": "",
         "orientation": "v",
         "showlegend": false,
         "text": {
          "bdata": "AAAAAACwc0AAAAAAAIBYQAAAAAAAgEZAAAAAAAAAOkAAAAAAAAA2QAAAAAAAAC5AAAAAAAAAKkAAAAAAAAAqQAAAAAAAACZAAAAAAAAAJkA=",
          "dtype": "f8"
         },
         "textposition": "outside",
         "type": "bar",
         "x": [
          "VIS Rating",
          "Saigon Ratings",
          "FiinRatings",
          "Tạp chí Tài chính",
          "S&I Ratings",
          "VnEconomy",
          "baochinhphu.vn",
          "Wikipedia",
          "Thư Viện Pháp Luật",
          "investopedia.com"
         ],
         "xaxis": "x",
         "y": {
          "bdata": "OwFiAC0AGgAWAA8ADQANAAsACwA=",
          "dtype": "i2"
         },
         "yaxis": "y"
        }
       ],
       "layout": {
        "barmode": "relative",
        "legend": {
         "tracegroupgap": 0
        },
        "template": {
         "data": {
          "bar": [
           {
            "error_x": {
             "color": "#2a3f5f"
            },
            "error_y": {
             "color": "#2a3f5f"
            },
            "marker": {
             "line": {
              "color": "#E5ECF6",
              "width": 0.5
             },
             "pattern": {
              "fillmode": "overlay",
              "size": 10,
              "solidity": 0.2
             }
            },
            "type": "bar"
           }
          ],
          "barpolar": [
           {
            "marker": {
             "line": {
              "color": "#E5ECF6",
              "width": 0.5
             },
             "pattern": {
              "fillmode": "overlay",
              "size": 10,
              "solidity": 0.2
             }
            },
            "type": "barpolar"
           }
          ],
          "carpet": [
           {
            "aaxis": {
             "endlinecolor": "#2a3f5f",
             "gridcolor": "white",
             "linecolor": "white",
             "minorgridcolor": "white",
             "startlinecolor": "#2a3f5f"
            },
            "baxis": {
             "endlinecolor": "#2a3f5f",
             "gridcolor": "white",
             "linecolor": "white",
             "minorgridcolor": "white",
             "startlinecolor": "#2a3f5f"
            },
            "type": "carpet"
           }
          ],
          "choropleth": [
           {
            "colorbar": {
             "outlinewidth": 0,
             "ticks": ""
            },
            "type": "choropleth"
           }
          ],
          "contour": [
           {
            "colorbar": {
             "outlinewidth": 0,
             "ticks": ""
            },
            "colorscale": [
             [
              0,
              "#0d0887"
             ],
             [
              0.1111111111111111,
              "#46039f"
             ],
             [
              0.2222222222222222,
              "#7201a8"
             ],
             [
              0.3333333333333333,
              "#9c179e"
             ],
             [
              0.4444444444444444,
              "#bd3786"
             ],
             [
              0.5555555555555556,
              "#d8576b"
             ],
             [
              0.6666666666666666,
              "#ed7953"
             ],
             [
              0.7777777777777778,
              "#fb9f3a"
             ],
             [
              0.8888888888888888,
              "#fdca26"
             ],
             [
              1,
              "#f0f921"
             ]
            ],
            "type": "contour"
           }
          ],
          "contourcarpet": [
           {
            "colorbar": {
             "outlinewidth": 0,
             "ticks": ""
            },
            "type": "contourcarpet"
           }
          ],
          "heatmap": [
           {
            "colorbar": {
             "outlinewidth": 0,
             "ticks": ""
            },
            "colorscale": [
             [
              0,
              "#0d0887"
             ],
             [
              0.1111111111111111,
              "#46039f"
             ],
             [
              0.2222222222222222,
              "#7201a8"
             ],
             [
              0.3333333333333333,
              "#9c179e"
             ],
             [
              0.4444444444444444,
              "#bd3786"
             ],
             [
              0.5555555555555556,
              "#d8576b"
             ],
             [
              0.6666666666666666,
              "#ed7953"
             ],
             [
              0.7777777777777778,
              "#fb9f3a"
             ],
             [
              0.8888888888888888,
              "#fdca26"
             ],
             [
              1,
              "#f0f921"
             ]
            ],
            "type": "heatmap"
           }
          ],
          "histogram": [
           {
            "marker": {
             "pattern": {
              "fillmode": "overlay",
              "size": 10,
              "solidity": 0.2
             }
            },
            "type": "histogram"
           }
          ],
          "histogram2d": [
           {
            "colorbar": {
             "outlinewidth": 0,
             "ticks": ""
            },
            "colorscale": [
             [
              0,
              "#0d0887"
             ],
             [
              0.1111111111111111,
              "#46039f"
             ],
             [
              0.2222222222222222,
              "#7201a8"
             ],
             [
              0.3333333333333333,
              "#9c179e"
             ],
             [
              0.4444444444444444,
              "#bd3786"
             ],
             [
              0.5555555555555556,
              "#d8576b"
             ],
             [
              0.6666666666666666,
              "#ed7953"
             ],
             [
              0.7777777777777778,
              "#fb9f3a"
             ],
             [
              0.8888888888888888,
              "#fdca26"
             ],
             [
              1,
              "#f0f921"
             ]
            ],
            "type": "histogram2d"
           }
          ],
          "histogram2dcontour": [
           {
            "colorbar": {
             "outlinewidth": 0,
             "ticks": ""
            },
            "colorscale": [
             [
              0,
              "#0d0887"
             ],
             [
              0.1111111111111111,
              "#46039f"
             ],
             [
              0.2222222222222222,
              "#7201a8"
             ],
             [
              0.3333333333333333,
              "#9c179e"
             ],
             [
              0.4444444444444444,
              "#bd3786"
             ],
             [
              0.5555555555555556,
              "#d8576b"
             ],
             [
              0.6666666666666666,
              "#ed7953"
             ],
             [
              0.7777777777777778,
              "#fb9f3a"
             ],
             [
              0.8888888888888888,
              "#fdca26"
             ],
             [
              1,
              "#f0f921"
             ]
            ],
            "type": "histogram2dcontour"
           }
          ],
          "mesh3d": [
           {
            "colorbar": {
             "outlinewidth": 0,
             "ticks": ""
            },
            "type": "mesh3d"
           }
          ],
          "parcoords": [
           {
            "line": {
             "colorbar": {
              "outlinewidth": 0,
              "ticks": ""
             }
            },
            "type": "parcoords"
           }
          ],
          "pie": [
           {
            "automargin": true,
            "type": "pie"
           }
          ],
          "scatter": [
           {
            "fillpattern": {
             "fillmode": "overlay",
             "size": 10,
             "solidity": 0.2
            },
            "type": "scatter"
           }
          ],
          "scatter3d": [
           {
            "line": {
             "colorbar": {
              "outlinewidth": 0,
              "ticks": ""
             }
            },
            "marker": {
             "colorbar": {
              "outlinewidth": 0,
              "ticks": ""
             }
            },
            "type": "scatter3d"
           }
          ],
          "scattercarpet": [
           {
            "marker": {
             "colorbar": {
              "outlinewidth": 0,
              "ticks": ""
             }
            },
            "type": "scattercarpet"
           }
          ],
          "scattergeo": [
           {
            "marker": {
             "colorbar": {
              "outlinewidth": 0,
              "ticks": ""
             }
            },
            "type": "scattergeo"
           }
          ],
          "scattergl": [
           {
            "marker": {
             "colorbar": {
              "outlinewidth": 0,
              "ticks": ""
             }
            },
            "type": "scattergl"
           }
          ],
          "scattermap": [
           {
            "marker": {
             "colorbar": {
              "outlinewidth": 0,
              "ticks": ""
             }
            },
            "type": "scattermap"
           }
          ],
          "scattermapbox": [
           {
            "marker": {
             "colorbar": {
              "outlinewidth": 0,
              "ticks": ""
             }
            },
            "type": "scattermapbox"
           }
          ],
          "scatterpolar": [
           {
            "marker": {
             "colorbar": {
              "outlinewidth": 0,
              "ticks": ""
             }
            },
            "type": "scatterpolar"
           }
          ],
          "scatterpolargl": [
           {
            "marker": {
             "colorbar": {
              "outlinewidth": 0,
              "ticks": ""
             }
            },
            "type": "scatterpolargl"
           }
          ],
          "scatterternary": [
           {
            "marker": {
             "colorbar": {
              "outlinewidth": 0,
              "ticks": ""
             }
            },
            "type": "scatterternary"
           }
          ],
          "surface": [
           {
            "colorbar": {
             "outlinewidth": 0,
             "ticks": ""
            },
            "colorscale": [
             [
              0,
              "#0d0887"
             ],
             [
              0.1111111111111111,
              "#46039f"
             ],
             [
              0.2222222222222222,
              "#7201a8"
             ],
             [
              0.3333333333333333,
              "#9c179e"
             ],
             [
              0.4444444444444444,
              "#bd3786"
             ],
             [
              0.5555555555555556,
              "#d8576b"
             ],
             [
              0.6666666666666666,
              "#ed7953"
             ],
             [
              0.7777777777777778,
              "#fb9f3a"
             ],
             [
              0.8888888888888888,
              "#fdca26"
             ],
             [
              1,
              "#f0f921"
             ]
            ],
            "type": "surface"
           }
          ],
          "table": [
           {
            "cells": {
             "fill": {
              "color": "#EBF0F8"
             },
             "line": {
              "color": "white"
             }
            },
            "header": {
             "fill": {
              "color": "#C8D4E3"
             },
             "line": {
              "color": "white"
             }
            },
            "type": "table"
           }
          ]
         },
         "layout": {
          "annotationdefaults": {
           "arrowcolor": "#2a3f5f",
           "arrowhead": 0,
           "arrowwidth": 1
          },
          "autotypenumbers": "strict",
          "coloraxis": {
           "colorbar": {
            "outlinewidth": 0,
            "ticks": ""
           }
          },
          "colorscale": {
           "diverging": [
            [
             0,
             "#8e0152"
            ],
            [
             0.1,
             "#c51b7d"
            ],
            [
             0.2,
             "#de77ae"
            ],
            [
             0.3,
             "#f1b6da"
            ],
            [
             0.4,
             "#fde0ef"
            ],
            [
             0.5,
             "#f7f7f7"
            ],
            [
             0.6,
             "#e6f5d0"
            ],
            [
             0.7,
             "#b8e186"
            ],
            [
             0.8,
             "#7fbc41"
            ],
            [
             0.9,
             "#4d9221"
            ],
            [
             1,
             "#276419"
            ]
           ],
           "sequential": [
            [
             0,
             "#0d0887"
            ],
            [
             0.1111111111111111,
             "#46039f"
            ],
            [
             0.2222222222222222,
             "#7201a8"
            ],
            [
             0.3333333333333333,
             "#9c179e"
            ],
            [
             0.4444444444444444,
             "#bd3786"
            ],
            [
             0.5555555555555556,
             "#d8576b"
            ],
            [
             0.6666666666666666,
             "#ed7953"
            ],
            [
             0.7777777777777778,
             "#fb9f3a"
            ],
            [
             0.8888888888888888,
             "#fdca26"
            ],
            [
             1,
             "#f0f921"
            ]
           ],
           "sequentialminus": [
            [
             0,
             "#0d0887"
            ],
            [
             0.1111111111111111,
             "#46039f"
            ],
            [
             0.2222222222222222,
             "#7201a8"
            ],
            [
             0.3333333333333333,
             "#9c179e"
            ],
            [
             0.4444444444444444,
             "#bd3786"
            ],
            [
             0.5555555555555556,
             "#d8576b"
            ],
            [
             0.6666666666666666,
             "#ed7953"
            ],
            [
             0.7777777777777778,
             "#fb9f3a"
            ],
            [
             0.8888888888888888,
             "#fdca26"
            ],
            [
             1,
             "#f0f921"
            ]
           ]
          },
          "colorway": [
           "#636efa",
           "#EF553B",
           "#00cc96",
           "#ab63fa",
           "#FFA15A",
           "#19d3f3",
           "#FF6692",
           "#B6E880",
           "#FF97FF",
           "#FECB52"
          ],
          "font": {
           "color": "#2a3f5f"
          },
          "geo": {
           "bgcolor": "white",
           "lakecolor": "white",
           "landcolor": "#E5ECF6",
           "showlakes": true,
           "showland": true,
           "subunitcolor": "white"
          },
          "hoverlabel": {
           "align": "left"
          },
          "hovermode": "closest",
          "mapbox": {
           "style": "light"
          },
          "paper_bgcolor": "white",
          "plot_bgcolor": "#E5ECF6",
          "polar": {
           "angularaxis": {
            "gridcolor": "white",
            "linecolor": "white",
            "ticks": ""
           },
           "bgcolor": "#E5ECF6",
           "radialaxis": {
            "gridcolor": "white",
            "linecolor": "white",
            "ticks": ""
           }
          },
          "scene": {
           "xaxis": {
            "backgroundcolor": "#E5ECF6",
            "gridcolor": "white",
            "gridwidth": 2,
            "linecolor": "white",
            "showbackground": true,
            "ticks": "",
            "zerolinecolor": "white"
           },
           "yaxis": {
            "backgroundcolor": "#E5ECF6",
            "gridcolor": "white",
            "gridwidth": 2,
            "linecolor": "white",
            "showbackground": true,
            "ticks": "",
            "zerolinecolor": "white"
           },
           "zaxis": {
            "backgroundcolor": "#E5ECF6",
            "gridcolor": "white",
            "gridwidth": 2,
            "linecolor": "white",
            "showbackground": true,
            "ticks": "",
            "zerolinecolor": "white"
           }
          },
          "shapedefaults": {
           "line": {
            "color": "#2a3f5f"
           }
          },
          "ternary": {
           "aaxis": {
            "gridcolor": "white",
            "linecolor": "white",
            "ticks": ""
           },
           "baxis": {
            "gridcolor": "white",
            "linecolor": "white",
            "ticks": ""
           },
           "bgcolor": "#E5ECF6",
           "caxis": {
            "gridcolor": "white",
            "linecolor": "white",
            "ticks": ""
           }
          },
          "title": {
           "x": 0.05
          },
          "xaxis": {
           "automargin": true,
           "gridcolor": "white",
           "linecolor": "white",
           "ticks": "",
           "title": {
            "standoff": 15
           },
           "zerolinecolor": "white",
           "zerolinewidth": 2
          },
          "yaxis": {
           "automargin": true,
           "gridcolor": "white",
           "linecolor": "white",
           "ticks": "",
           "title": {
            "standoff": 15
           },
           "zerolinecolor": "white",
           "zerolinewidth": 2
          }
         }
        },
        "title": {
         "text": "Top 10 Cited Brands Count"
        },
        "xaxis": {
         "anchor": "y",
         "domain": [
          0,
          1
         ],
         "title": {
          "text": "brand"
         }
        },
        "yaxis": {
         "anchor": "x",
         "domain": [
          0,
          1
         ],
         "title": {
          "text": "cited_count"
         }
        }
       }
      }
     },
     "metadata": {},
     "output_type": "display_data"
    }
   ],
   "source": [
    "## create interactive column chart for brand cited counts, only taking the top 20 brands\n",
    "import plotly.express as px\n",
    "top_20_brands = brand_list_df.head(20)\n",
    "fig = px.bar(top_10_brands, x='brand', y='cited_count', title='Top 10 Cited Brands Count', text='cited_count')\n",
    "fig.update_traces(textposition='outside')\n",
    "fig.show()\n",
    "\n",
    "## export charts to embeddable html\n",
    "# fig.write_html('vna_top_10_cited_brands_probability_share.html')"
   ]
  },
  {
   "cell_type": "markdown",
   "id": "e4e3d40f",
   "metadata": {},
   "source": [
    "# BRAND MENTION"
   ]
  },
  {
   "cell_type": "code",
   "execution_count": 63,
   "id": "f2db5bf5",
   "metadata": {},
   "outputs": [
    {
     "data": {
      "text/plain": [
       "[{'name': 'VIS Rating', 'domain': ['visrating.com']},\n",
       " {'name': 'Saigon Ratings', 'domain': ['saigonratings.com']},\n",
       " {'name': 'FiinRatings', 'domain': ['fiinratings.vn']},\n",
       " {'name': 'Tạp chí Tài chính', 'domain': ['tapchitaichinh.vn']},\n",
       " {'name': 'S&I Ratings', 'domain': ['sniratings.com.vn']},\n",
       " {'name': 'VnEconomy', 'domain': ['vneconomy.vn']},\n",
       " {'name': 'baochinhphu.vn', 'domain': ['baochinhphu.vn']},\n",
       " {'name': 'Wikipedia', 'domain': ['vi.wikipedia.org']},\n",
       " {'name': 'Thư Viện Pháp Luật', 'domain': ['thuvienphapluat.vn']},\n",
       " {'name': 'investopedia.com', 'domain': ['translate.google.com']},\n",
       " {'name': 'Tạp chí Xây dựng', 'domain': ['tapchixaydung.vn']},\n",
       " {'name': 'ASL LAW', 'domain': ['aslgate.com']},\n",
       " {'name': 'capital.com', 'domain': ['translate.google.com']},\n",
       " {'name': 'Báo Chính phủ', 'domain': ['baochinhphu.vn']},\n",
       " {'name': 'en.wikipedia.org', 'domain': ['translate.google.com']},\n",
       " {'name': 'ACB', 'domain': ['acb.com.vn']},\n",
       " {'name': 'Tạp chí Thị trường Tài chính Tiền tệ',\n",
       "  'domain': ['thitruongtaichinhtiente.vn']},\n",
       " {'name': 'VietinBank', 'domain': ['investor.vietinbank.vn']},\n",
       " {'name': 'thitruongtaichinhtiente.vn',\n",
       "  'domain': ['thitruongtaichinhtiente.vn']},\n",
       " {'name': 'VNSC by Finhay', 'domain': ['www.vnsc.vn']},\n",
       " {'name': 'VnExpress', 'domain': ['vnexpress.net']},\n",
       " {'name': 'Báo Tuổi Trẻ', 'domain': ['tuoitre.vn']},\n",
       " {'name': 'Thời báo Tài chính Việt Nam',\n",
       "  'domain': ['thoibaotaichinhvietnam.vn']},\n",
       " {'name': 'Báo điện tử Tiền Phong', 'domain': ['tienphong.vn']},\n",
       " {'name': 'Tiền Phong', 'domain': ['tienphong.vn']},\n",
       " {'name': 'DNSE', 'domain': ['www.dnse.com.vn']},\n",
       " {'name': 'Tikop', 'domain': ['tikop.vn']},\n",
       " {'name': 'VIB', 'domain': ['www.vib.com.vn']},\n",
       " {'name': 'YouTube\\xa0·', 'domain': ['www.youtube.com']},\n",
       " {'name': 'Tạp chí Công Thương', 'domain': ['tapchicongthuong.vn']},\n",
       " {'name': 'TPbank', 'domain': ['tpb.vn']},\n",
       " {'name': 'CBIS Portal', 'domain': ['cbonds.hnx.vn']},\n",
       " {'name': 'VCCI', 'domain': ['www.vcci.com.vn']},\n",
       " {'name': 'financeunlocked.com', 'domain': ['translate.google.com']},\n",
       " {'name': 'Báo Mới', 'domain': ['baomoi.com']},\n",
       " {'name': 'Báo điện tử VTC News', 'domain': ['vtcnews.vn']},\n",
       " {'name': 'Hiệp hội ngân hàng Việt Nam', 'domain': ['vnba.org.vn']},\n",
       " {'name': 'aljazeera.com', 'domain': ['translate.google.com']},\n",
       " {'name': 'VietnamBiz', 'domain': ['vietnambiz.vn']},\n",
       " {'name': 'CafeF', 'domain': ['cafef.vn']},\n",
       " {'name': 'ABBANK', 'domain': ['abbank.vn']},\n",
       " {'name': 'BIDV', 'domain': ['bidv.com.vn']},\n",
       " {'name': 'VPBank', 'domain': ['www.vpbank.com.vn']},\n",
       " {'name': 'FiinGroup', 'domain': ['fiingroup.vn']},\n",
       " {'name': 'coebank.org', 'domain': ['translate.google.com']},\n",
       " {'name': 'Laodong.vn', 'domain': ['laodong.vn']},\n",
       " {'name': 'Thuế & Hải quan Online', 'domain': ['haiquanonline.com.vn']},\n",
       " {'name': 'Cổng thông tin điện tử Bộ Tài Chính', 'domain': ['www.mof.gov.vn']},\n",
       " {'name': 'Tin nhanh chứng khoán', 'domain': ['www.tinnhanhchungkhoan.vn']},\n",
       " {'name': 'Chứng khoán DNSE', 'domain': ['www.dnse.com.vn']},\n",
       " {'name': 'HNX', 'domain': ['cbonds.hnx.vn']},\n",
       " {'name': 'Techcombank', 'domain': ['techcombank.com']},\n",
       " {'name': 'yieldstreet.com', 'domain': ['translate.google.com']},\n",
       " {'name': 'britannica.com', 'domain': ['translate.google.com']},\n",
       " {'name': 'tapchitaichinh.vn', 'domain': ['tapchitaichinh.vn']},\n",
       " {'name': 'Kinh Tế Đô Thị', 'domain': ['kinhtedothi.vn']},\n",
       " {'name': 'Trang chủ - MBS', 'domain': ['mbs.com.vn']},\n",
       " {'name': 'Báo Lao Động', 'domain': ['laodong.vn']},\n",
       " {'name': 'studocu.vn', 'domain': ['www.studocu.vn']},\n",
       " {'name': 'Tạp chí Điện tử Luật sư Việt Nam', 'domain': ['lsvn.vn']},\n",
       " {'name': 'haiquanonline.com.vn', 'domain': ['haiquanonline.com.vn']},\n",
       " {'name': 'Việc Làm 24h', 'domain': ['vieclam24h.vn']},\n",
       " {'name': 'Ô Xanh', 'domain': ['oxanh.vn']},\n",
       " {'name': 'Investopedia',\n",
       "  'domain': ['www.investopedia.com.en2vi.search.translate.goog']},\n",
       " {'name': 'HighRadius',\n",
       "  'domain': ['www.highradius.com.en2vi.search.translate.goog']},\n",
       " {'name': 'Trang chủ - VNCR', 'domain': ['vncr.vn']},\n",
       " {'name': 'Bộ Tài chính', 'domain': ['www.mof.gov.vn']},\n",
       " {'name': 'thuonghieucongluan.com.vn',\n",
       "  'domain': ['thuonghieucongluan.com.vn']},\n",
       " {'name': 'Báo Nhân Dân điện tử', 'domain': ['nhandan.vn']},\n",
       " {'name': 'fitchratings.com', 'domain': ['translate.google.com']},\n",
       " {'name': 'SeABank', 'domain': ['www.seabank.com.vn']},\n",
       " {'name': 'hartfordfunds.com', 'domain': ['translate.google.com']},\n",
       " {'name': 'CRIF D&B Việt Nam', 'domain': ['dnbvietnam.com']},\n",
       " {'name': 'Công ty Cổ phần Chứng khoán Nhất Việt',\n",
       "  'domain': ['www.vfs.com.vn']},\n",
       " {'name': 'seabank.com.vn', 'domain': ['www.seabank.com.vn']},\n",
       " {'name': 'Vietcombank', 'domain': ['www.vietcombank.com.vn']},\n",
       " {'name': 'xaydungchinhsach.chinhphu.vn',\n",
       "  'domain': ['xaydungchinhsach.chinhphu.vn']},\n",
       " {'name': 'Mekong ASEAN', 'domain': ['mekongasean.vn']},\n",
       " {'name': 'Khoa Quản trị Kinh doanh', 'domain': ['kqtkd.duytan.edu.vn']},\n",
       " {'name': 'topi.vn', 'domain': ['topi.vn']},\n",
       " {'name': 'sacombank.com.vn', 'domain': ['www.sacombank.com.vn']},\n",
       " {'name': 'theleader.vn', 'domain': ['theleader.vn']},\n",
       " {'name': 'Facebook\\xa0·', 'domain': ['www.facebook.com']}]"
      ]
     },
     "execution_count": 63,
     "metadata": {},
     "output_type": "execute_result"
    }
   ],
   "source": [
    "# appand all competitors into a single list called brand_competitor, with only name and domain, name is \"brand\" in brand_list_df, domain is \"unique_domains\" in brand_list_df\n",
    "brand_competitor = []\n",
    "for index, row in brand_list_df.iterrows():\n",
    "    brand_competitor.append({\n",
    "        \"name\": row['brand'],\n",
    "        \"domain\": row['unique_domains'] if row['unique_domains'] else None\n",
    "    })\n",
    "\n",
    "brand_competitor"
   ]
  },
  {
   "cell_type": "code",
   "execution_count": 64,
   "id": "86acca95",
   "metadata": {},
   "outputs": [
    {
     "data": {
      "text/html": [
       "<div>\n",
       "<style scoped>\n",
       "    .dataframe tbody tr th:only-of-type {\n",
       "        vertical-align: middle;\n",
       "    }\n",
       "\n",
       "    .dataframe tbody tr th {\n",
       "        vertical-align: top;\n",
       "    }\n",
       "\n",
       "    .dataframe thead th {\n",
       "        text-align: right;\n",
       "    }\n",
       "</style>\n",
       "<table border=\"1\" class=\"dataframe\">\n",
       "  <thead>\n",
       "    <tr style=\"text-align: right;\">\n",
       "      <th></th>\n",
       "      <th>name</th>\n",
       "      <th>domain</th>\n",
       "    </tr>\n",
       "  </thead>\n",
       "  <tbody>\n",
       "    <tr>\n",
       "      <th>0</th>\n",
       "      <td>VIS Rating</td>\n",
       "      <td>[visrating.com]</td>\n",
       "    </tr>\n",
       "    <tr>\n",
       "      <th>1</th>\n",
       "      <td>Saigon Ratings</td>\n",
       "      <td>[saigonratings.com]</td>\n",
       "    </tr>\n",
       "    <tr>\n",
       "      <th>2</th>\n",
       "      <td>FiinRatings</td>\n",
       "      <td>[fiinratings.vn]</td>\n",
       "    </tr>\n",
       "    <tr>\n",
       "      <th>3</th>\n",
       "      <td>Tạp chí Tài chính</td>\n",
       "      <td>[tapchitaichinh.vn]</td>\n",
       "    </tr>\n",
       "    <tr>\n",
       "      <th>4</th>\n",
       "      <td>S&amp;I Ratings</td>\n",
       "      <td>[sniratings.com.vn]</td>\n",
       "    </tr>\n",
       "    <tr>\n",
       "      <th>...</th>\n",
       "      <td>...</td>\n",
       "      <td>...</td>\n",
       "    </tr>\n",
       "    <tr>\n",
       "      <th>78</th>\n",
       "      <td>Khoa Quản trị Kinh doanh</td>\n",
       "      <td>[kqtkd.duytan.edu.vn]</td>\n",
       "    </tr>\n",
       "    <tr>\n",
       "      <th>79</th>\n",
       "      <td>topi.vn</td>\n",
       "      <td>[topi.vn]</td>\n",
       "    </tr>\n",
       "    <tr>\n",
       "      <th>80</th>\n",
       "      <td>sacombank.com.vn</td>\n",
       "      <td>[www.sacombank.com.vn]</td>\n",
       "    </tr>\n",
       "    <tr>\n",
       "      <th>81</th>\n",
       "      <td>theleader.vn</td>\n",
       "      <td>[theleader.vn]</td>\n",
       "    </tr>\n",
       "    <tr>\n",
       "      <th>82</th>\n",
       "      <td>Facebook ·</td>\n",
       "      <td>[www.facebook.com]</td>\n",
       "    </tr>\n",
       "  </tbody>\n",
       "</table>\n",
       "<p>83 rows × 2 columns</p>\n",
       "</div>"
      ],
      "text/plain": [
       "                        name                  domain\n",
       "0                 VIS Rating         [visrating.com]\n",
       "1             Saigon Ratings     [saigonratings.com]\n",
       "2                FiinRatings        [fiinratings.vn]\n",
       "3          Tạp chí Tài chính     [tapchitaichinh.vn]\n",
       "4                S&I Ratings     [sniratings.com.vn]\n",
       "..                       ...                     ...\n",
       "78  Khoa Quản trị Kinh doanh   [kqtkd.duytan.edu.vn]\n",
       "79                   topi.vn               [topi.vn]\n",
       "80          sacombank.com.vn  [www.sacombank.com.vn]\n",
       "81              theleader.vn          [theleader.vn]\n",
       "82                Facebook ·      [www.facebook.com]\n",
       "\n",
       "[83 rows x 2 columns]"
      ]
     },
     "execution_count": 64,
     "metadata": {},
     "output_type": "execute_result"
    }
   ],
   "source": [
    "# Turn into dataframe\n",
    "df_competitor = pd.DataFrame(brand_competitor)\n",
    "df_competitor[:100]"
   ]
  },
  {
   "cell_type": "code",
   "execution_count": 65,
   "id": "f2e824f3",
   "metadata": {},
   "outputs": [
    {
     "data": {
      "text/html": [
       "<div>\n",
       "<style scoped>\n",
       "    .dataframe tbody tr th:only-of-type {\n",
       "        vertical-align: middle;\n",
       "    }\n",
       "\n",
       "    .dataframe tbody tr th {\n",
       "        vertical-align: top;\n",
       "    }\n",
       "\n",
       "    .dataframe thead th {\n",
       "        text-align: right;\n",
       "    }\n",
       "</style>\n",
       "<table border=\"1\" class=\"dataframe\">\n",
       "  <thead>\n",
       "    <tr style=\"text-align: right;\">\n",
       "      <th></th>\n",
       "      <th>name</th>\n",
       "      <th>domain</th>\n",
       "      <th>cited_in_prompts</th>\n",
       "      <th>average_rank</th>\n",
       "      <th>prompt_cited_rate</th>\n",
       "      <th>mentioned</th>\n",
       "      <th>mention_rate</th>\n",
       "    </tr>\n",
       "  </thead>\n",
       "  <tbody>\n",
       "    <tr>\n",
       "      <th>0</th>\n",
       "      <td>VIS Rating</td>\n",
       "      <td>[visrating.com]</td>\n",
       "      <td>90</td>\n",
       "      <td>4.768254</td>\n",
       "      <td>0.857143</td>\n",
       "      <td>29</td>\n",
       "      <td>0.276190</td>\n",
       "    </tr>\n",
       "    <tr>\n",
       "      <th>1</th>\n",
       "      <td>Saigon Ratings</td>\n",
       "      <td>[saigonratings.com]</td>\n",
       "      <td>68</td>\n",
       "      <td>5.377551</td>\n",
       "      <td>0.647619</td>\n",
       "      <td>14</td>\n",
       "      <td>0.133333</td>\n",
       "    </tr>\n",
       "    <tr>\n",
       "      <th>2</th>\n",
       "      <td>FiinRatings</td>\n",
       "      <td>[fiinratings.vn]</td>\n",
       "      <td>37</td>\n",
       "      <td>4.488889</td>\n",
       "      <td>0.352381</td>\n",
       "      <td>23</td>\n",
       "      <td>0.219048</td>\n",
       "    </tr>\n",
       "    <tr>\n",
       "      <th>3</th>\n",
       "      <td>Tạp chí Tài chính</td>\n",
       "      <td>[tapchitaichinh.vn]</td>\n",
       "      <td>22</td>\n",
       "      <td>4.538462</td>\n",
       "      <td>0.209524</td>\n",
       "      <td>0</td>\n",
       "      <td>0.000000</td>\n",
       "    </tr>\n",
       "    <tr>\n",
       "      <th>4</th>\n",
       "      <td>S&amp;I Ratings</td>\n",
       "      <td>[sniratings.com.vn]</td>\n",
       "      <td>18</td>\n",
       "      <td>6.545455</td>\n",
       "      <td>0.171429</td>\n",
       "      <td>6</td>\n",
       "      <td>0.057143</td>\n",
       "    </tr>\n",
       "    <tr>\n",
       "      <th>...</th>\n",
       "      <td>...</td>\n",
       "      <td>...</td>\n",
       "      <td>...</td>\n",
       "      <td>...</td>\n",
       "      <td>...</td>\n",
       "      <td>...</td>\n",
       "      <td>...</td>\n",
       "    </tr>\n",
       "    <tr>\n",
       "      <th>78</th>\n",
       "      <td>Khoa Quản trị Kinh doanh</td>\n",
       "      <td>[kqtkd.duytan.edu.vn]</td>\n",
       "      <td>1</td>\n",
       "      <td>2.000000</td>\n",
       "      <td>0.009524</td>\n",
       "      <td>0</td>\n",
       "      <td>0.000000</td>\n",
       "    </tr>\n",
       "    <tr>\n",
       "      <th>79</th>\n",
       "      <td>topi.vn</td>\n",
       "      <td>[topi.vn]</td>\n",
       "      <td>1</td>\n",
       "      <td>2.000000</td>\n",
       "      <td>0.009524</td>\n",
       "      <td>0</td>\n",
       "      <td>0.000000</td>\n",
       "    </tr>\n",
       "    <tr>\n",
       "      <th>80</th>\n",
       "      <td>sacombank.com.vn</td>\n",
       "      <td>[www.sacombank.com.vn]</td>\n",
       "      <td>1</td>\n",
       "      <td>4.000000</td>\n",
       "      <td>0.009524</td>\n",
       "      <td>0</td>\n",
       "      <td>0.000000</td>\n",
       "    </tr>\n",
       "    <tr>\n",
       "      <th>81</th>\n",
       "      <td>theleader.vn</td>\n",
       "      <td>[theleader.vn]</td>\n",
       "      <td>1</td>\n",
       "      <td>4.000000</td>\n",
       "      <td>0.009524</td>\n",
       "      <td>1</td>\n",
       "      <td>0.009524</td>\n",
       "    </tr>\n",
       "    <tr>\n",
       "      <th>82</th>\n",
       "      <td>Facebook ·</td>\n",
       "      <td>[www.facebook.com]</td>\n",
       "      <td>1</td>\n",
       "      <td>1.000000</td>\n",
       "      <td>0.009524</td>\n",
       "      <td>0</td>\n",
       "      <td>0.000000</td>\n",
       "    </tr>\n",
       "  </tbody>\n",
       "</table>\n",
       "<p>83 rows × 7 columns</p>\n",
       "</div>"
      ],
      "text/plain": [
       "                        name                  domain  cited_in_prompts  \\\n",
       "0                 VIS Rating         [visrating.com]                90   \n",
       "1             Saigon Ratings     [saigonratings.com]                68   \n",
       "2                FiinRatings        [fiinratings.vn]                37   \n",
       "3          Tạp chí Tài chính     [tapchitaichinh.vn]                22   \n",
       "4                S&I Ratings     [sniratings.com.vn]                18   \n",
       "..                       ...                     ...               ...   \n",
       "78  Khoa Quản trị Kinh doanh   [kqtkd.duytan.edu.vn]                 1   \n",
       "79                   topi.vn               [topi.vn]                 1   \n",
       "80          sacombank.com.vn  [www.sacombank.com.vn]                 1   \n",
       "81              theleader.vn          [theleader.vn]                 1   \n",
       "82                Facebook ·      [www.facebook.com]                 1   \n",
       "\n",
       "    average_rank  prompt_cited_rate  mentioned  mention_rate  \n",
       "0       4.768254           0.857143         29      0.276190  \n",
       "1       5.377551           0.647619         14      0.133333  \n",
       "2       4.488889           0.352381         23      0.219048  \n",
       "3       4.538462           0.209524          0      0.000000  \n",
       "4       6.545455           0.171429          6      0.057143  \n",
       "..           ...                ...        ...           ...  \n",
       "78      2.000000           0.009524          0      0.000000  \n",
       "79      2.000000           0.009524          0      0.000000  \n",
       "80      4.000000           0.009524          0      0.000000  \n",
       "81      4.000000           0.009524          1      0.009524  \n",
       "82      1.000000           0.009524          0      0.000000  \n",
       "\n",
       "[83 rows x 7 columns]"
      ]
     },
     "metadata": {},
     "output_type": "display_data"
    }
   ],
   "source": [
    "## get prompt citation rate for each competitor from brand_list_df using domain matching\n",
    "# brand_list_df contains 'unique_domains' (list) and 'cited_in_prompts' (count)\n",
    "from urllib.parse import urlparse\n",
    "import re\n",
    "\n",
    "def _extract_host(u: str) -> str:\n",
    "    if not u:\n",
    "        return \"\"\n",
    "    u = str(u).strip().lower()\n",
    "    # try parse URL first\n",
    "    if \"://\" in u:\n",
    "        try:\n",
    "            host = urlparse(u).hostname or u\n",
    "        except Exception:\n",
    "            host = u\n",
    "    else:\n",
    "        host = u.split(\"/\")[0].split(\":\")[0]\n",
    "    # drop leading www.\n",
    "    if host.startswith(\"www.\"):\n",
    "        host = host[4:]\n",
    "    return host\n",
    "\n",
    "def _domain_label_match(comp: str, ud: str) -> bool:\n",
    "    if not comp or not ud:\n",
    "        return False\n",
    "    comp = comp.lower().strip()\n",
    "    ud_host = _extract_host(ud)\n",
    "    # pattern ensures comp appears as a domain label (start, end or separated by dots)\n",
    "    pattern = r'(^|\\.)' + re.escape(comp) + r'($|\\.)'\n",
    "    return bool(re.search(pattern, ud_host))\n",
    "\n",
    "## Checks brand mention for each competitor with regex in the aio_markdown column, use the \"name\" column and the \"japanese_name\" column of df_competitor if available\n",
    "def check_brand_mention(brand: str, text: str, japanese_name: str = None) -> bool:\n",
    "    if pd.isna(text) or not text:\n",
    "        return False\n",
    "\n",
    "    candidates = []\n",
    "    if brand:\n",
    "        candidates.append(str(brand))\n",
    "    for name in candidates:\n",
    "        # match whole word boundaries; escape special chars\n",
    "        pattern = r'\\b' + re.escape(name) + r'\\b'\n",
    "        if re.search(pattern, text, re.IGNORECASE):\n",
    "            return True\n",
    "    return False\n",
    "\n",
    "\n",
    "\n",
    "# inherit cited_in_prompts, average_rank, prompt_cited_rate from brand_list_df\n",
    "df_competitor = pd.merge(df_competitor, brand_list_df[['brand', 'cited_in_prompts', 'average_rank', 'prompt_cited_rate']], left_on='name', right_on='brand', how='left')\n",
    "df_competitor = df_competitor.drop(columns=['brand'])\n",
    "df_competitor['cited_in_prompts'] = df_competitor['cited_in_prompts'].fillna(0).astype(int)\n",
    "\n",
    "\n",
    "df_competitor['mentioned'] = df_competitor.apply(\n",
    "    lambda row: df_merged['aio_markdown']\n",
    "        .apply(lambda text: check_brand_mention(row.get('name'), text, row.get('japanese_name')))\n",
    "        .sum(),\n",
    "    axis=1\n",
    ")\n",
    "df_competitor['prompt_cited_rate'] = df_competitor['cited_in_prompts'] / df_aio.shape[0]\n",
    "df_competitor['mention_rate'] = df_competitor['mentioned'] / df_aio.shape[0]\n",
    "\n",
    "\n",
    "display(df_competitor.sort_values(by='cited_in_prompts', ascending=False))\n",
    "df_competitor.to_csv('brand-mention-summary.csv', index=False)"
   ]
  },
  {
   "cell_type": "code",
   "execution_count": 66,
   "id": "b3fcc369",
   "metadata": {},
   "outputs": [
    {
     "data": {
      "application/vnd.plotly.v1+json": {
       "config": {
        "plotlyServerURL": "https://plot.ly"
       },
       "data": [
        {
         "hovertemplate": "name=%{x}<br>mentioned=%{text}<extra></extra>",
         "legendgroup": "",
         "marker": {
          "color": "#636efa",
          "pattern": {
           "shape": ""
          }
         },
         "name": "",
         "orientation": "v",
         "showlegend": false,
         "text": {
          "bdata": "AAAAAAAAPUAAAAAAAAA3QAAAAAAAACxAAAAAAAAAJkAAAAAAAAAYQAAAAAAAABhAAAAAAAAAFEAAAAAAAAAUQAAAAAAAABBAAAAAAAAAEEAAAAAAAAAQQAAAAAAAAAhAAAAAAAAACEAAAAAAAAAAQAAAAAAAAABAAAAAAAAAAEAAAAAAAADwPwAAAAAAAPA/AAAAAAAA8D8AAAAAAADwPwAAAAAAAPA/AAAAAAAA8D8AAAAAAADwPwAAAAAAAAAAAAAAAAAAAAAAAAAAAAAAAAAAAAAAAAAAAAAAAAAAAAAAAAAAAAAAAAAAAAAAAAAAAAAAAAAAAAAAAAAAAAAAAAAAAAAAAAAAAAAAAAAAAAAAAAAAAAAAAAAAAAAAAAAAAAAAAAAAAAAAAAAAAAAAAAAAAAAAAAAAAAAAAAAAAAAAAAAAAAAAAAAAAAAAAAAAAAAAAAAAAAAAAAAAAAAAAAAAAAAAAAAAAAAAAAAAAAAAAAAAAAAAAAAAAAAAAAAAAAAAAAAAAAAAAAAAAAAAAAAAAAAAAAAAAAAAAAAAAAAAAAAAAAAAAAAAAAAAAAAAAAAAAAAAAAAAAAAAAAAAAAAAAAAAAAAAAAAAAAAAAAAAAAAAAAAAAAAAAAAAAAAAAAAAAAAAAAAAAAAAAAAAAAAAAAAAAAAAAAAAAAAAAAAAAAAAAAAAAAAAAAAAAAAAAAAAAAAAAAAAAAAAAAAAAAAAAAAAAAAAAAAAAAAAAAAAAAAAAAAAAAAAAAAAAAAAAAAAAAAAAAAAAAAAAAAAAAAAAAAAAAAAAAAAAAAAAAAAAAAAAAAAAAAAAAAAAAAAAAAAAAAAAAAAAAAAAAAAAAAAAAAAAAAAAAAAAAAAAAAAAAAAAAAAAA==",
          "dtype": "f8"
         },
         "textposition": "auto",
         "type": "bar",
         "x": [
          "VIS Rating",
          "FiinRatings",
          "Saigon Ratings",
          "Bộ Tài chính",
          "S&I Ratings",
          "ACB",
          "VietinBank",
          "BIDV",
          "VPBank",
          "VIB",
          "Techcombank",
          "VnExpress",
          "FiinGroup",
          "TPbank",
          "SeABank",
          "Vietcombank",
          "theleader.vn",
          "Investopedia",
          "capital.com",
          "ABBANK",
          "CafeF",
          "Báo điện tử VTC News",
          "Báo Tuổi Trẻ",
          "thitruongtaichinhtiente.vn",
          "Tạp chí Thị trường Tài chính Tiền tệ",
          "Báo Chính phủ",
          "en.wikipedia.org",
          "baochinhphu.vn",
          "VnEconomy",
          "Tạp chí Tài chính",
          "Wikipedia",
          "ASL LAW",
          "Thư Viện Pháp Luật",
          "investopedia.com",
          "Tạp chí Xây dựng",
          "Báo Mới",
          "financeunlocked.com",
          "VCCI",
          "CBIS Portal",
          "Tạp chí Công Thương",
          "YouTube ·",
          "Hiệp hội ngân hàng Việt Nam",
          "VietnamBiz",
          "aljazeera.com",
          "coebank.org",
          "Tikop",
          "DNSE",
          "Báo điện tử Tiền Phong",
          "Tiền Phong",
          "VNSC by Finhay",
          "Thời báo Tài chính Việt Nam",
          "HNX",
          "Chứng khoán DNSE",
          "Tin nhanh chứng khoán",
          "Cổng thông tin điện tử Bộ Tài Chính",
          "Thuế & Hải quan Online",
          "Laodong.vn",
          "Kinh Tế Đô Thị",
          "yieldstreet.com",
          "studocu.vn",
          "Báo Lao Động",
          "Tạp chí Điện tử Luật sư Việt Nam",
          "haiquanonline.com.vn",
          "Ô Xanh",
          "Trang chủ - MBS",
          "britannica.com",
          "tapchitaichinh.vn",
          "Trang chủ - VNCR",
          "HighRadius",
          "Việc Làm 24h",
          "thuonghieucongluan.com.vn",
          "hartfordfunds.com",
          "CRIF D&B Việt Nam",
          "Báo Nhân Dân điện tử",
          "fitchratings.com",
          "seabank.com.vn",
          "Công ty Cổ phần Chứng khoán Nhất Việt",
          "Mekong ASEAN",
          "xaydungchinhsach.chinhphu.vn",
          "Khoa Quản trị Kinh doanh",
          "topi.vn",
          "sacombank.com.vn",
          "Facebook ·"
         ],
         "xaxis": "x",
         "y": {
          "bdata": "HRcOCwYGBQUEBAQDAwICAgEBAQEBAQEAAAAAAAAAAAAAAAAAAAAAAAAAAAAAAAAAAAAAAAAAAAAAAAAAAAAAAAAAAAAAAAAAAAAAAAAAAAAAAAA=",
          "dtype": "i1"
         },
         "yaxis": "y"
        }
       ],
       "layout": {
        "barmode": "relative",
        "legend": {
         "tracegroupgap": 0
        },
        "template": {
         "data": {
          "bar": [
           {
            "error_x": {
             "color": "#2a3f5f"
            },
            "error_y": {
             "color": "#2a3f5f"
            },
            "marker": {
             "line": {
              "color": "#E5ECF6",
              "width": 0.5
             },
             "pattern": {
              "fillmode": "overlay",
              "size": 10,
              "solidity": 0.2
             }
            },
            "type": "bar"
           }
          ],
          "barpolar": [
           {
            "marker": {
             "line": {
              "color": "#E5ECF6",
              "width": 0.5
             },
             "pattern": {
              "fillmode": "overlay",
              "size": 10,
              "solidity": 0.2
             }
            },
            "type": "barpolar"
           }
          ],
          "carpet": [
           {
            "aaxis": {
             "endlinecolor": "#2a3f5f",
             "gridcolor": "white",
             "linecolor": "white",
             "minorgridcolor": "white",
             "startlinecolor": "#2a3f5f"
            },
            "baxis": {
             "endlinecolor": "#2a3f5f",
             "gridcolor": "white",
             "linecolor": "white",
             "minorgridcolor": "white",
             "startlinecolor": "#2a3f5f"
            },
            "type": "carpet"
           }
          ],
          "choropleth": [
           {
            "colorbar": {
             "outlinewidth": 0,
             "ticks": ""
            },
            "type": "choropleth"
           }
          ],
          "contour": [
           {
            "colorbar": {
             "outlinewidth": 0,
             "ticks": ""
            },
            "colorscale": [
             [
              0,
              "#0d0887"
             ],
             [
              0.1111111111111111,
              "#46039f"
             ],
             [
              0.2222222222222222,
              "#7201a8"
             ],
             [
              0.3333333333333333,
              "#9c179e"
             ],
             [
              0.4444444444444444,
              "#bd3786"
             ],
             [
              0.5555555555555556,
              "#d8576b"
             ],
             [
              0.6666666666666666,
              "#ed7953"
             ],
             [
              0.7777777777777778,
              "#fb9f3a"
             ],
             [
              0.8888888888888888,
              "#fdca26"
             ],
             [
              1,
              "#f0f921"
             ]
            ],
            "type": "contour"
           }
          ],
          "contourcarpet": [
           {
            "colorbar": {
             "outlinewidth": 0,
             "ticks": ""
            },
            "type": "contourcarpet"
           }
          ],
          "heatmap": [
           {
            "colorbar": {
             "outlinewidth": 0,
             "ticks": ""
            },
            "colorscale": [
             [
              0,
              "#0d0887"
             ],
             [
              0.1111111111111111,
              "#46039f"
             ],
             [
              0.2222222222222222,
              "#7201a8"
             ],
             [
              0.3333333333333333,
              "#9c179e"
             ],
             [
              0.4444444444444444,
              "#bd3786"
             ],
             [
              0.5555555555555556,
              "#d8576b"
             ],
             [
              0.6666666666666666,
              "#ed7953"
             ],
             [
              0.7777777777777778,
              "#fb9f3a"
             ],
             [
              0.8888888888888888,
              "#fdca26"
             ],
             [
              1,
              "#f0f921"
             ]
            ],
            "type": "heatmap"
           }
          ],
          "histogram": [
           {
            "marker": {
             "pattern": {
              "fillmode": "overlay",
              "size": 10,
              "solidity": 0.2
             }
            },
            "type": "histogram"
           }
          ],
          "histogram2d": [
           {
            "colorbar": {
             "outlinewidth": 0,
             "ticks": ""
            },
            "colorscale": [
             [
              0,
              "#0d0887"
             ],
             [
              0.1111111111111111,
              "#46039f"
             ],
             [
              0.2222222222222222,
              "#7201a8"
             ],
             [
              0.3333333333333333,
              "#9c179e"
             ],
             [
              0.4444444444444444,
              "#bd3786"
             ],
             [
              0.5555555555555556,
              "#d8576b"
             ],
             [
              0.6666666666666666,
              "#ed7953"
             ],
             [
              0.7777777777777778,
              "#fb9f3a"
             ],
             [
              0.8888888888888888,
              "#fdca26"
             ],
             [
              1,
              "#f0f921"
             ]
            ],
            "type": "histogram2d"
           }
          ],
          "histogram2dcontour": [
           {
            "colorbar": {
             "outlinewidth": 0,
             "ticks": ""
            },
            "colorscale": [
             [
              0,
              "#0d0887"
             ],
             [
              0.1111111111111111,
              "#46039f"
             ],
             [
              0.2222222222222222,
              "#7201a8"
             ],
             [
              0.3333333333333333,
              "#9c179e"
             ],
             [
              0.4444444444444444,
              "#bd3786"
             ],
             [
              0.5555555555555556,
              "#d8576b"
             ],
             [
              0.6666666666666666,
              "#ed7953"
             ],
             [
              0.7777777777777778,
              "#fb9f3a"
             ],
             [
              0.8888888888888888,
              "#fdca26"
             ],
             [
              1,
              "#f0f921"
             ]
            ],
            "type": "histogram2dcontour"
           }
          ],
          "mesh3d": [
           {
            "colorbar": {
             "outlinewidth": 0,
             "ticks": ""
            },
            "type": "mesh3d"
           }
          ],
          "parcoords": [
           {
            "line": {
             "colorbar": {
              "outlinewidth": 0,
              "ticks": ""
             }
            },
            "type": "parcoords"
           }
          ],
          "pie": [
           {
            "automargin": true,
            "type": "pie"
           }
          ],
          "scatter": [
           {
            "fillpattern": {
             "fillmode": "overlay",
             "size": 10,
             "solidity": 0.2
            },
            "type": "scatter"
           }
          ],
          "scatter3d": [
           {
            "line": {
             "colorbar": {
              "outlinewidth": 0,
              "ticks": ""
             }
            },
            "marker": {
             "colorbar": {
              "outlinewidth": 0,
              "ticks": ""
             }
            },
            "type": "scatter3d"
           }
          ],
          "scattercarpet": [
           {
            "marker": {
             "colorbar": {
              "outlinewidth": 0,
              "ticks": ""
             }
            },
            "type": "scattercarpet"
           }
          ],
          "scattergeo": [
           {
            "marker": {
             "colorbar": {
              "outlinewidth": 0,
              "ticks": ""
             }
            },
            "type": "scattergeo"
           }
          ],
          "scattergl": [
           {
            "marker": {
             "colorbar": {
              "outlinewidth": 0,
              "ticks": ""
             }
            },
            "type": "scattergl"
           }
          ],
          "scattermap": [
           {
            "marker": {
             "colorbar": {
              "outlinewidth": 0,
              "ticks": ""
             }
            },
            "type": "scattermap"
           }
          ],
          "scattermapbox": [
           {
            "marker": {
             "colorbar": {
              "outlinewidth": 0,
              "ticks": ""
             }
            },
            "type": "scattermapbox"
           }
          ],
          "scatterpolar": [
           {
            "marker": {
             "colorbar": {
              "outlinewidth": 0,
              "ticks": ""
             }
            },
            "type": "scatterpolar"
           }
          ],
          "scatterpolargl": [
           {
            "marker": {
             "colorbar": {
              "outlinewidth": 0,
              "ticks": ""
             }
            },
            "type": "scatterpolargl"
           }
          ],
          "scatterternary": [
           {
            "marker": {
             "colorbar": {
              "outlinewidth": 0,
              "ticks": ""
             }
            },
            "type": "scatterternary"
           }
          ],
          "surface": [
           {
            "colorbar": {
             "outlinewidth": 0,
             "ticks": ""
            },
            "colorscale": [
             [
              0,
              "#0d0887"
             ],
             [
              0.1111111111111111,
              "#46039f"
             ],
             [
              0.2222222222222222,
              "#7201a8"
             ],
             [
              0.3333333333333333,
              "#9c179e"
             ],
             [
              0.4444444444444444,
              "#bd3786"
             ],
             [
              0.5555555555555556,
              "#d8576b"
             ],
             [
              0.6666666666666666,
              "#ed7953"
             ],
             [
              0.7777777777777778,
              "#fb9f3a"
             ],
             [
              0.8888888888888888,
              "#fdca26"
             ],
             [
              1,
              "#f0f921"
             ]
            ],
            "type": "surface"
           }
          ],
          "table": [
           {
            "cells": {
             "fill": {
              "color": "#EBF0F8"
             },
             "line": {
              "color": "white"
             }
            },
            "header": {
             "fill": {
              "color": "#C8D4E3"
             },
             "line": {
              "color": "white"
             }
            },
            "type": "table"
           }
          ]
         },
         "layout": {
          "annotationdefaults": {
           "arrowcolor": "#2a3f5f",
           "arrowhead": 0,
           "arrowwidth": 1
          },
          "autotypenumbers": "strict",
          "coloraxis": {
           "colorbar": {
            "outlinewidth": 0,
            "ticks": ""
           }
          },
          "colorscale": {
           "diverging": [
            [
             0,
             "#8e0152"
            ],
            [
             0.1,
             "#c51b7d"
            ],
            [
             0.2,
             "#de77ae"
            ],
            [
             0.3,
             "#f1b6da"
            ],
            [
             0.4,
             "#fde0ef"
            ],
            [
             0.5,
             "#f7f7f7"
            ],
            [
             0.6,
             "#e6f5d0"
            ],
            [
             0.7,
             "#b8e186"
            ],
            [
             0.8,
             "#7fbc41"
            ],
            [
             0.9,
             "#4d9221"
            ],
            [
             1,
             "#276419"
            ]
           ],
           "sequential": [
            [
             0,
             "#0d0887"
            ],
            [
             0.1111111111111111,
             "#46039f"
            ],
            [
             0.2222222222222222,
             "#7201a8"
            ],
            [
             0.3333333333333333,
             "#9c179e"
            ],
            [
             0.4444444444444444,
             "#bd3786"
            ],
            [
             0.5555555555555556,
             "#d8576b"
            ],
            [
             0.6666666666666666,
             "#ed7953"
            ],
            [
             0.7777777777777778,
             "#fb9f3a"
            ],
            [
             0.8888888888888888,
             "#fdca26"
            ],
            [
             1,
             "#f0f921"
            ]
           ],
           "sequentialminus": [
            [
             0,
             "#0d0887"
            ],
            [
             0.1111111111111111,
             "#46039f"
            ],
            [
             0.2222222222222222,
             "#7201a8"
            ],
            [
             0.3333333333333333,
             "#9c179e"
            ],
            [
             0.4444444444444444,
             "#bd3786"
            ],
            [
             0.5555555555555556,
             "#d8576b"
            ],
            [
             0.6666666666666666,
             "#ed7953"
            ],
            [
             0.7777777777777778,
             "#fb9f3a"
            ],
            [
             0.8888888888888888,
             "#fdca26"
            ],
            [
             1,
             "#f0f921"
            ]
           ]
          },
          "colorway": [
           "#636efa",
           "#EF553B",
           "#00cc96",
           "#ab63fa",
           "#FFA15A",
           "#19d3f3",
           "#FF6692",
           "#B6E880",
           "#FF97FF",
           "#FECB52"
          ],
          "font": {
           "color": "#2a3f5f"
          },
          "geo": {
           "bgcolor": "white",
           "lakecolor": "white",
           "landcolor": "#E5ECF6",
           "showlakes": true,
           "showland": true,
           "subunitcolor": "white"
          },
          "hoverlabel": {
           "align": "left"
          },
          "hovermode": "closest",
          "mapbox": {
           "style": "light"
          },
          "paper_bgcolor": "white",
          "plot_bgcolor": "#E5ECF6",
          "polar": {
           "angularaxis": {
            "gridcolor": "white",
            "linecolor": "white",
            "ticks": ""
           },
           "bgcolor": "#E5ECF6",
           "radialaxis": {
            "gridcolor": "white",
            "linecolor": "white",
            "ticks": ""
           }
          },
          "scene": {
           "xaxis": {
            "backgroundcolor": "#E5ECF6",
            "gridcolor": "white",
            "gridwidth": 2,
            "linecolor": "white",
            "showbackground": true,
            "ticks": "",
            "zerolinecolor": "white"
           },
           "yaxis": {
            "backgroundcolor": "#E5ECF6",
            "gridcolor": "white",
            "gridwidth": 2,
            "linecolor": "white",
            "showbackground": true,
            "ticks": "",
            "zerolinecolor": "white"
           },
           "zaxis": {
            "backgroundcolor": "#E5ECF6",
            "gridcolor": "white",
            "gridwidth": 2,
            "linecolor": "white",
            "showbackground": true,
            "ticks": "",
            "zerolinecolor": "white"
           }
          },
          "shapedefaults": {
           "line": {
            "color": "#2a3f5f"
           }
          },
          "ternary": {
           "aaxis": {
            "gridcolor": "white",
            "linecolor": "white",
            "ticks": ""
           },
           "baxis": {
            "gridcolor": "white",
            "linecolor": "white",
            "ticks": ""
           },
           "bgcolor": "#E5ECF6",
           "caxis": {
            "gridcolor": "white",
            "linecolor": "white",
            "ticks": ""
           }
          },
          "title": {
           "x": 0.05
          },
          "xaxis": {
           "automargin": true,
           "gridcolor": "white",
           "linecolor": "white",
           "ticks": "",
           "title": {
            "standoff": 15
           },
           "zerolinecolor": "white",
           "zerolinewidth": 2
          },
          "yaxis": {
           "automargin": true,
           "gridcolor": "white",
           "linecolor": "white",
           "ticks": "",
           "title": {
            "standoff": 15
           },
           "zerolinecolor": "white",
           "zerolinewidth": 2
          }
         }
        },
        "title": {
         "text": "Competitor Brand Mentions in AI Overview"
        },
        "xaxis": {
         "anchor": "y",
         "domain": [
          0,
          1
         ],
         "title": {
          "text": "name"
         }
        },
        "yaxis": {
         "anchor": "x",
         "domain": [
          0,
          1
         ],
         "title": {
          "text": "mentioned"
         }
        }
       }
      }
     },
     "metadata": {},
     "output_type": "display_data"
    }
   ],
   "source": [
    "## Create plots for competitor mentions\n",
    "import plotly.express as px\n",
    "fig = px.bar(df_competitor.sort_values(by='mentioned', ascending=False), x='name', y='mentioned', title='Competitor Brand Mentions in AI Overview', text='mentioned')\n",
    "fig.show()"
   ]
  }
 ],
 "metadata": {
  "kernelspec": {
   "display_name": "Python 3",
   "language": "python",
   "name": "python3"
  },
  "language_info": {
   "codemirror_mode": {
    "name": "ipython",
    "version": 3
   },
   "file_extension": ".py",
   "mimetype": "text/x-python",
   "name": "python",
   "nbconvert_exporter": "python",
   "pygments_lexer": "ipython3",
   "version": "3.13.3"
  }
 },
 "nbformat": 4,
 "nbformat_minor": 5
}
